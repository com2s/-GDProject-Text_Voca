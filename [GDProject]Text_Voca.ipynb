{
  "cells": [
    {
      "cell_type": "markdown",
      "id": "39e19b90",
      "metadata": {
        "id": "39e19b90"
      },
      "source": [
        "이번 코스에선 문장 데이터를 직접 토큰화하며 어떤 방법이 가장 적합한 단어 조각을 만들어 내는지 실습해보도록 하겠습니다.\n",
        "\n",
        "---\n",
        "\n",
        "이번 코스에서는 KoNLPy, 그중에서도 가장 성능이 준수한 MeCab클래스를 활용해 실습하도록 하겠습니다!\n",
        "\n",
        "클라우드 환경에는 이미 설치되어 있습니다. 아래 링크에서 확인만 해보세요.\n",
        "\n",
        "* [설치하기 - KoNLPy 0.5.2 documentation](https://konlpy.org/ko/latest/install/)\n",
        "설치가 완료된 후엔 아주 간편하게 import 하여 형태소 분석기를 사용하실 수 있습니다."
      ]
    },
    {
      "cell_type": "markdown",
      "source": [
        "# 목차\n",
        "\n",
        "* 데이터 다운로드 및 분석\n",
        "* 공백 기반 토큰화\n",
        "* 형태소 기반 토큰화\n",
        "* 프로젝트:SentencePiece 사용하기\n",
        "* 회고\n",
        "* Reference"
      ],
      "metadata": {
        "id": "8_U-fqJmjSid"
      },
      "id": "8_U-fqJmjSid"
    },
    {
      "cell_type": "code",
      "execution_count": null,
      "id": "50649553",
      "metadata": {
        "id": "50649553",
        "outputId": "69e44f57-a999-40ee-8d9d-d40d4815d5e2"
      },
      "outputs": [
        {
          "name": "stdout",
          "output_type": "stream",
          "text": [
            "['자연어', '처리', '가', '너무', '재밌', '어서', '밥', '먹', '는', '것', '도', '가끔', '까먹', '어요']\n"
          ]
        }
      ],
      "source": [
        "from konlpy.tag import Mecab\n",
        "\n",
        "mecab = Mecab()\n",
        "print(mecab.morphs('자연어처리가너무재밌어서밥먹는것도가끔까먹어요'))"
      ]
    },
    {
      "cell_type": "markdown",
      "id": "e2c5541e",
      "metadata": {
        "id": "e2c5541e"
      },
      "source": [
        "# 데이터 다운로드 및 분석\n",
        "\n",
        "먼저 프로젝트에 사용될 라이브러리를 import 합니다."
      ]
    },
    {
      "cell_type": "code",
      "execution_count": null,
      "id": "ac132ab0",
      "metadata": {
        "id": "ac132ab0"
      },
      "outputs": [],
      "source": [
        "import os\n",
        "\n",
        "import matplotlib.pyplot as plt\n",
        "import tensorflow as tf\n",
        "import numpy as np\n",
        "\n",
        "%matplotlib inline"
      ]
    },
    {
      "cell_type": "markdown",
      "id": "b53edff6",
      "metadata": {
        "id": "b53edff6"
      },
      "source": [
        "그럼 학습환경을 구성하고 데이터를 다운받아 보겠습니다.\n",
        "\n",
        "\\$ wget https://github.com/jungyeul/korean-parallel-corpora/raw/master/korean-english-news-v1/korean-english-park.train.tar.gz\n",
        "\\$ mkdir -p ~/aiffel/sp_tokenizer/data\n",
        "\\$ mv korean-english-park.train.tar.gz ~/aiffel/sp_tokenizer/data\n",
        "\\$ cd ~/aiffel/sp_tokenizer/data\n",
        "\\$ tar -xzvf korean-english-park.train.tar.gz"
      ]
    },
    {
      "cell_type": "code",
      "execution_count": null,
      "id": "86420d44",
      "metadata": {
        "id": "86420d44",
        "outputId": "68836d1d-361f-43b1-a030-f346eb01cab7"
      },
      "outputs": [
        {
          "name": "stdout",
          "output_type": "stream",
          "text": [
            "Data Size: 94123\n",
            "Example:\n",
            ">> 개인용 컴퓨터 사용의 상당 부분은 \"이것보다 뛰어날 수 있느냐?\"\n",
            ">> 북한의 핵무기 계획을 포기하도록 하려는 압력이 거세지고 있는 가운데, 일본과 북한의 외교관들이 외교 관계를 정상화하려는 회담을 재개했다.\n",
            ">> \"경호 로보트가 침입자나 화재를 탐지하기 위해서 개인적으로, 그리고 전문적으로 사용되고 있습니다.\"\n",
            ">> 수자원부 당국은 논란이 되고 있고, 막대한 비용이 드는 이 사업에 대해 내년에 건설을 시작할 계획이다.\n",
            ">> 또한 근력 운동은 활발하게 걷는 것이나 최소한 20분 동안 뛰는 것과 같은 유산소 활동에서 얻는 운동 효과를 심장과 폐에 주지 않기 때문에, 연구학자들은 근력 운동이 심장에 큰 영향을 미치는지 여부에 대해 논쟁을 해왔다.\n"
          ]
        }
      ],
      "source": [
        "import os\n",
        "path_to_file = os.getenv('HOME')+'/aiffel/sp_tokenizer/data/korean-english-park.train.ko'\n",
        "\n",
        "with open(path_to_file, \"r\") as f:\n",
        "    raw = f.read().splitlines()\n",
        "\n",
        "print(\"Data Size:\", len(raw))\n",
        "\n",
        "print(\"Example:\")\n",
        "for sen in raw[0:100][::20]: print(\">>\", sen)"
      ]
    },
    {
      "cell_type": "markdown",
      "id": "a9b11f2b",
      "metadata": {
        "id": "a9b11f2b"
      },
      "source": [
        "내려받은 데이터는 한국어의 형태소 분석과 품사 태깅, 기계 번역 연구를 위해 공개된 데이터입니다. 이번에 사용할 데이터는 한국어-영어 병렬을 이루는 말뭉치 중 한국어 부분으로, 전체 병렬 말뭉치는 후에 번역기를 만들며 사용할 예정입니다!\n",
        "\n",
        "자, 데이터가 우리 손으로 들어왔으니 씹고 뜯고 맛볼 차례입니다! 멋진 시각화를 동반한 통계적 분석...까지는 하지 않고요. 최소한의 분석으로 데이터가 얼마나 있고, 어떻게 생겼는지 정도를 직접 확인해 봅시다.\n",
        "\n",
        "문장은 위에서 확인한 것처럼 94123개가 포함되어 있습니다. 우리는 각 문장이 어느 정도의 길이를 가지는지 확인해보겠습니다! 이 과정을 거치면 지나치게 긴 데이터를 삭제하거나 (연산량을 감소시켜 학습 속도가 빨라집니다!) 지나치게 짧은 데이터를 검증 (무조건 필요가 없지는 않습니다, 단어 ↔ 단어 라면 번역을 학습할 수 있겠죠!) 할 수 있습니다. 즉, 데이터를 얼마나 사용할지 타협점을 정의할 수 있습니다.\n",
        "\n",
        "아래 소스는 문장의 최단 길이, 최장 길이, 평균 길이를 구한 후 문장 길이 분포를 막대그래프로 표현해 주는 소스입니다. raw 변수는 앞서 다운로드받은 데이터가 담긴 변수입니다!"
      ]
    },
    {
      "cell_type": "code",
      "execution_count": null,
      "id": "5da28c3f",
      "metadata": {
        "id": "5da28c3f",
        "outputId": "e75050da-7752-46ef-a72f-170c39fcf134"
      },
      "outputs": [
        {
          "name": "stdout",
          "output_type": "stream",
          "text": [
            "문장의 최단 길이: 1\n",
            "문장의 최장 길이: 377\n",
            "문장의 평균 길이: 60\n"
          ]
        },
        {
          "name": "stderr",
          "output_type": "stream",
          "text": [
            "/tmp/ipykernel_31/2284205290.py:15: DeprecationWarning: `np.int` is a deprecated alias for the builtin `int`. To silence this warning, use `int` by itself. Doing this will not modify any behavior and is safe. When replacing `np.int`, you may wish to use e.g. `np.int64` or `np.int32` to specify the precision. If you wish to review your current use, check the release note link for additional information.\n",
            "Deprecated in NumPy 1.20; for more details and guidance: https://numpy.org/devdocs/release/1.20.0-notes.html#deprecations\n",
            "  sentence_length = np.zeros((max_len), dtype=np.int)\n"
          ]
        },
        {
          "data": {
            "image/png": "[encoded data removed]",
            "text/plain": [
              "<Figure size 432x288 with 1 Axes>"
            ]
          },
          "metadata": {
            "needs_background": "light"
          },
          "output_type": "display_data"
        }
      ],
      "source": [
        "min_len = 999\n",
        "max_len = 0\n",
        "sum_len = 0\n",
        "\n",
        "for sen in raw:\n",
        "    length = len(sen)\n",
        "    if min_len > length: min_len = length\n",
        "    if max_len < length: max_len = length\n",
        "    sum_len += length\n",
        "\n",
        "print(\"문장의 최단 길이:\", min_len)\n",
        "print(\"문장의 최장 길이:\", max_len)\n",
        "print(\"문장의 평균 길이:\", sum_len // len(raw))\n",
        "\n",
        "sentence_length = np.zeros((max_len), dtype=np.int)\n",
        "\n",
        "for sen in raw:\n",
        "    sentence_length[len(sen)-1] += 1\n",
        "\n",
        "plt.bar(range(max_len), sentence_length, width=1.0)\n",
        "plt.title(\"Sentence Length Distribution\")\n",
        "plt.show()"
      ]
    },
    {
      "cell_type": "markdown",
      "id": "23b4a573",
      "metadata": {
        "id": "23b4a573"
      },
      "source": [
        "최단 길이 1, 최장 길이 377... 그리고 제법 그럴듯한 막대그래프가 나왔습니다만, 이 결과를 확인하고 드는 생각은 아래와 크게 다르지 않으실 거예요..!\n",
        "\n",
        "1) 길이 1 짜리 문장은 도대체 어떻게 생겨먹었지?\n",
        "\n",
        "2) 앞에 치솟는 임의의 구간은 뭐지? 유의미한 데이터가 담겨있는 부분인가?\n",
        "\n",
        "3) 어디서부터 어디까지 잘라서 쓰지?\n",
        "\n",
        "궁금증을 하나하나 해결해 봅시다! 대체 길이가 1인 문장은 뭘까요?"
      ]
    },
    {
      "cell_type": "code",
      "execution_count": null,
      "id": "aa17e936",
      "metadata": {
        "id": "aa17e936",
        "outputId": "99d4de48-0146-4035-8009-9ac45cbe4c93"
      },
      "outputs": [
        {
          "name": "stdout",
          "output_type": "stream",
          "text": [
            "’\n"
          ]
        }
      ],
      "source": [
        "def check_sentence_with_length(raw, length):\n",
        "    count = 0\n",
        "    \n",
        "    for sen in raw:\n",
        "        if len(sen) == length:\n",
        "            print(sen)\n",
        "            count += 1\n",
        "            if count > 100: return\n",
        "\n",
        "check_sentence_with_length(raw, 1)"
      ]
    },
    {
      "cell_type": "markdown",
      "id": "80d00e6c",
      "metadata": {
        "id": "80d00e6c"
      },
      "source": [
        "오잉? 하마터면 완전 노이즈인 데이터를 그대로 사용할 뻔했습니다! 왠지 길이별로 확인할 일이 많을 것 같아 함수를 미리 정의해두었는데, 이를 이용해 확인이 필요해 보이는 문장은 모두 확인해보죠."
      ]
    },
    {
      "cell_type": "code",
      "execution_count": null,
      "id": "b5f70c88",
      "metadata": {
        "id": "b5f70c88",
        "outputId": "5abb504a-406f-4648-cda1-9eb0278c3c1b"
      },
      "outputs": [
        {
          "name": "stdout",
          "output_type": "stream",
          "text": [
            "Outlier Index: 11\n",
            "Outlier Index: 19\n",
            "Outlier Index: 21\n"
          ]
        }
      ],
      "source": [
        "for idx, _sum in enumerate(sentence_length):\n",
        "    # 문장의 수가 1500을 초과하는 문장 길이를 추출합니다.\n",
        "    if _sum > 1500:\n",
        "        print(\"Outlier Index:\", idx+1)"
      ]
    },
    {
      "cell_type": "code",
      "execution_count": null,
      "id": "65d01345",
      "metadata": {
        "id": "65d01345",
        "outputId": "8b23f998-1300-4017-d99d-174f9e845975"
      },
      "outputs": [
        {
          "name": "stdout",
          "output_type": "stream",
          "text": [
            "라고 조던이 말했다.\n",
            "- 모르고 있습니다.\n",
            "- 네, 보이는군요.\n",
            "디즈니사만이 아니다.\n",
            "큰 파티는 아니지요.\n",
            "의자는 비어 있었다.\n",
            "이 일은 계속됩니다.\n",
            "나는 크게 실망했다.\n",
            "그 이유는 간단하다.\n",
            "이력서와 자기 소개서\n",
            "시대가 변하고 있다.\n",
            "는 돌발질문을 했다.\n",
            "9. 몇 분간의 명상\n",
            "하와이, 빅 아일랜드\n",
            "키스를 잘 하는 방법\n",
            "키스를 잘 하는 방법\n",
            "스피어스가 뚱뚱한가?\n",
            "산 위를 나는 느낌.\n",
            "세 시간쯤 걸었을까?\n",
            "(아직 읽고있습니까?\n",
            "처음에는 장난이었다.\n",
            "우리는 운이 좋았다.\n",
            "아기가 숨을 멈출 때\n",
            "건물 전체 무너져내려\n",
            "그녀의 아름다운 눈.\n",
            "대답은 다음과 같다.\n",
            "\"사과할 것이 없다.\n",
            "폭탄테러가 공포 유발\n",
            "그는 \"잘 모르겠다.\n",
            "그는 \"잘 모르겠다.\n",
            "그는 \"잘 모르겠다.\n",
            "그는 \"잘 모르겠다.\n",
            "그는 \"잘 모르겠다.\n",
            "그는 \"잘 모르겠다.\n",
            "그는 \"잘 모르겠다.\n",
            "그는 \"잘 모르겠다.\n",
            "그는 \"잘 모르겠다.\n",
            "케냐 야생동물 고아원\n",
            "경유 1200원대로…\n",
            "더 내려야 하는 이유\n",
            "케냐 야생동물 고아원\n",
            "경유 1200원대로…\n",
            "더 내려야 하는 이유\n",
            "케냐 야생동물 고아원\n",
            "경유 1200원대로…\n",
            "더 내려야 하는 이유\n",
            "케냐 야생동물 고아원\n",
            "경유 1200원대로…\n",
            "더 내려야 하는 이유\n",
            "케냐 야생동물 고아원\n",
            "경유 1200원대로…\n",
            "더 내려야 하는 이유\n",
            "케냐 야생동물 고아원\n",
            "경유 1200원대로…\n",
            "더 내려야 하는 이유\n",
            "케냐 야생동물 고아원\n",
            "경유 1200원대로…\n",
            "더 내려야 하는 이유\n",
            "케냐 야생동물 고아원\n",
            "경유 1200원대로…\n",
            "더 내려야 하는 이유\n",
            "케냐 야생동물 고아원\n",
            "경유 1200원대로…\n",
            "더 내려야 하는 이유\n",
            "케냐 야생동물 고아원\n",
            "경유 1200원대로…\n",
            "더 내려야 하는 이유\n",
            "케냐 야생동물 고아원\n",
            "경유 1200원대로…\n",
            "더 내려야 하는 이유\n",
            "케냐 야생동물 고아원\n",
            "경유 1200원대로…\n",
            "더 내려야 하는 이유\n",
            "케냐 야생동물 고아원\n",
            "경유 1200원대로…\n",
            "더 내려야 하는 이유\n",
            "케냐 야생동물 고아원\n",
            "경유 1200원대로…\n",
            "더 내려야 하는 이유\n",
            "케냐 야생동물 고아원\n",
            "경유 1200원대로…\n",
            "더 내려야 하는 이유\n",
            "케냐 야생동물 고아원\n",
            "경유 1200원대로…\n",
            "더 내려야 하는 이유\n",
            "케냐 야생동물 고아원\n",
            "경유 1200원대로…\n",
            "더 내려야 하는 이유\n",
            "케냐 야생동물 고아원\n",
            "경유 1200원대로…\n",
            "더 내려야 하는 이유\n",
            "케냐 야생동물 고아원\n",
            "경유 1200원대로…\n",
            "더 내려야 하는 이유\n",
            "케냐 야생동물 고아원\n",
            "경유 1200원대로…\n",
            "더 내려야 하는 이유\n",
            "조금은 새침한 샬롯？\n",
            "조금은 새침한 샬롯？\n",
            "케냐 야생동물 고아원\n",
            "경유 1200원대로…\n"
          ]
        }
      ],
      "source": [
        "check_sentence_with_length(raw, 11)"
      ]
    },
    {
      "cell_type": "markdown",
      "id": "59e5dc2d",
      "metadata": {
        "id": "59e5dc2d"
      },
      "source": [
        "이런... 심지어 중복에 대한 처리도 제대로 하지 않았었네요. 중복 제거는 Python의 기본 자료형 set을 활용할 겁니다. set은 집합을 정의하는 자료형인데, 중복을 허용하지 않아 변환 과정에서 자동으로 중복된 요소를 제거해 주거든요! 대신 list의 순서가 뒤죽박죽될 수 있으니, 만약 번역 데이터처럼 쌍을 이뤄야 하는 경우라면 주의해서 사용하셔야 합니다!\n",
        "\n",
        "중복을 제거한 후, 앞에서 분포를 확인한 소스를 다시 실행시켜 보겠습니다!"
      ]
    },
    {
      "cell_type": "code",
      "execution_count": null,
      "id": "01226eca",
      "metadata": {
        "id": "01226eca",
        "outputId": "f6d1b4df-bcbd-4808-b2bf-40c5ef537eba"
      },
      "outputs": [
        {
          "name": "stdout",
          "output_type": "stream",
          "text": [
            "Data Size: 77591\n",
            "문장의 최단 길이: 1\n",
            "문장의 최장 길이: 377\n",
            "문장의 평균 길이: 64\n"
          ]
        },
        {
          "name": "stderr",
          "output_type": "stream",
          "text": [
            "/tmp/ipykernel_31/390535405.py:18: DeprecationWarning: `np.int` is a deprecated alias for the builtin `int`. To silence this warning, use `int` by itself. Doing this will not modify any behavior and is safe. When replacing `np.int`, you may wish to use e.g. `np.int64` or `np.int32` to specify the precision. If you wish to review your current use, check the release note link for additional information.\n",
            "Deprecated in NumPy 1.20; for more details and guidance: https://numpy.org/devdocs/release/1.20.0-notes.html#deprecations\n",
            "  sentence_length = np.zeros((max_len), dtype=np.int)\n"
          ]
        },
        {
          "data": {
            "image/png": "[encoded data removed]",
            "text/plain": [
              "<Figure size 432x288 with 1 Axes>"
            ]
          },
          "metadata": {
            "needs_background": "light"
          },
          "output_type": "display_data"
        }
      ],
      "source": [
        "min_len = 999\n",
        "max_len = 0\n",
        "sum_len = 0\n",
        "\n",
        "cleaned_corpus = list(set(raw))  # set를 사용해서 중복을 제거합니다.\n",
        "print(\"Data Size:\", len(cleaned_corpus))\n",
        "\n",
        "for sen in cleaned_corpus:\n",
        "    length = len(sen)\n",
        "    if min_len > length: min_len = length\n",
        "    if max_len < length: max_len = length\n",
        "    sum_len += length\n",
        "\n",
        "print(\"문장의 최단 길이:\", min_len)\n",
        "print(\"문장의 최장 길이:\", max_len)\n",
        "print(\"문장의 평균 길이:\", sum_len // len(cleaned_corpus))\n",
        "\n",
        "sentence_length = np.zeros((max_len), dtype=np.int)\n",
        "\n",
        "for sen in cleaned_corpus:   # 중복이 제거된 코퍼스 기준\n",
        "    sentence_length[len(sen)-1] += 1\n",
        "\n",
        "plt.bar(range(max_len), sentence_length, width=1.0)\n",
        "plt.title(\"Sentence Length Distribution\")\n",
        "plt.show()"
      ]
    },
    {
      "cell_type": "markdown",
      "id": "72978849",
      "metadata": {
        "id": "72978849"
      },
      "source": [
        "이제서야 깔끔한 데이터를 얻은 느낌이 드네요. 데이터의 개수도 17000개가량 줄어 77591 개가 되었습니다.\n",
        "\n",
        "마지막으로 '모든 데이터를 다 사용할 것이냐' 가 문제인데, 후에 미니 배치를 만들 것을 생각하면 모든 데이터를 다 사용하는 것은 연산 측면에서 비효율적입니다. 미니 배치 특성상 각 데이터의 크기가 모두 동일해야 하기 때문에 가장 긴 데이터를 기준으로 Padding 처리를 해야 합니다. 위의 데이터에서 만약 길이가 100인 문장까지만 사용한다면 데이터는 [ (77591 - 길이 100 초과 문장 수) x 100 ] 의 형태를 갖겠지만 모두 사용할 경우 [ 77591 x 377 ] 로 전자보다 최소 3.7배 큰 메모리를 차지합니다. 학습 시간도 그만큼 더 오래 걸리고요.\n",
        "\n",
        "길이별로 정렬하여 미니 배치를 구성해 Padding을 최소화하는 방법도 있지만 이는 데이터를 섞는 데 편향성이 생길 수 있으므로 지양해야 합니다. 여기서는 길이 150 이상의 데이터를 제거하고 사용하도록 할게요!\n",
        "\n",
        "그리고 앞서 확인한 것처럼 너무 짧은 데이터는 오히려 노이즈로 작용할 수 있습니다. 따라서 길이가 10 미만인 데이터도 제거하도록 하죠!"
      ]
    },
    {
      "cell_type": "code",
      "execution_count": null,
      "id": "cad9f78d",
      "metadata": {
        "id": "cad9f78d",
        "outputId": "ab280055-8a7d-421c-d8d9-737f329fe949"
      },
      "outputs": [
        {
          "name": "stderr",
          "output_type": "stream",
          "text": [
            "/tmp/ipykernel_31/1483434014.py:8: DeprecationWarning: `np.int` is a deprecated alias for the builtin `int`. To silence this warning, use `int` by itself. Doing this will not modify any behavior and is safe. When replacing `np.int`, you may wish to use e.g. `np.int64` or `np.int32` to specify the precision. If you wish to review your current use, check the release note link for additional information.\n",
            "Deprecated in NumPy 1.20; for more details and guidance: https://numpy.org/devdocs/release/1.20.0-notes.html#deprecations\n",
            "  sentence_length = np.zeros((max_len), dtype=np.int)\n"
          ]
        },
        {
          "data": {
            "image/png": "[encoded data removed]",
            "text/plain": [
              "<Figure size 432x288 with 1 Axes>"
            ]
          },
          "metadata": {
            "needs_background": "light"
          },
          "output_type": "display_data"
        }
      ],
      "source": [
        "max_len = 150\n",
        "min_len = 10\n",
        "\n",
        "# 길이 조건에 맞는 문장만 선택합니다.\n",
        "filtered_corpus = [s for s in cleaned_corpus if (len(s) < max_len) & (len(s) >= min_len)]\n",
        "\n",
        "# 분포도를 다시 그려봅니다.\n",
        "sentence_length = np.zeros((max_len), dtype=np.int)\n",
        "\n",
        "for sen in filtered_corpus:\n",
        "    sentence_length[len(sen)-1] += 1\n",
        "\n",
        "plt.bar(range(max_len), sentence_length, width=1.0)\n",
        "plt.title(\"Sentence Length Distribution\")\n",
        "plt.show()"
      ]
    },
    {
      "cell_type": "markdown",
      "id": "dfa0e57a",
      "metadata": {
        "id": "dfa0e57a"
      },
      "source": [
        "이제 정말 사용할 준비가 된 것 같죠? 본격적인 작업을 시작해봅시다!"
      ]
    },
    {
      "cell_type": "markdown",
      "id": "c9c46140",
      "metadata": {
        "id": "c9c46140"
      },
      "source": [
        "# 공백 기반 토큰화\n",
        "\n",
        "배운 순서대로, 먼저 공백 기반 토큰화를 진행해 봅시다!\n",
        "\n",
        "정제된 데이터를 공백 기반으로 토큰화하여 list에 저장한 후, 아래 tokenize() 함수를 사용해 단어 사전과 Tensor 데이터를 얻으세요! 그리고 단어 사전의 크기를 확인하세요!"
      ]
    },
    {
      "cell_type": "code",
      "execution_count": null,
      "id": "e6fcba40",
      "metadata": {
        "id": "e6fcba40"
      },
      "outputs": [],
      "source": [
        "def tokenize(corpus):  # corpus: Tokenized Sentence's List\n",
        "    tokenizer = tf.keras.preprocessing.text.Tokenizer(filters='')\n",
        "    tokenizer.fit_on_texts(corpus)\n",
        "\n",
        "    tensor = tokenizer.texts_to_sequences(corpus)\n",
        "\n",
        "    tensor = tf.keras.preprocessing.sequence.pad_sequences(tensor, padding='post')\n",
        "\n",
        "    return tensor, tokenizer"
      ]
    },
    {
      "cell_type": "code",
      "execution_count": null,
      "id": "d70b3e6f",
      "metadata": {
        "id": "d70b3e6f"
      },
      "outputs": [],
      "source": [
        "split_corpus = []\n",
        "\n",
        "for kor in filtered_corpus:\n",
        "    split_corpus.append(kor.split())"
      ]
    },
    {
      "cell_type": "markdown",
      "id": "30f10f58",
      "metadata": {
        "id": "30f10f58"
      },
      "source": [
        "이제 공백 기반 토큰화를 진행한 후, 단어 사전의 길이를 확인해봅시다."
      ]
    },
    {
      "cell_type": "code",
      "execution_count": null,
      "id": "be5dd704",
      "metadata": {
        "id": "be5dd704",
        "outputId": "9987eb45-e6d3-4180-f4f7-a45f44edf946"
      },
      "outputs": [
        {
          "name": "stdout",
          "output_type": "stream",
          "text": [
            "Split Vocab Size: 237435\n"
          ]
        }
      ],
      "source": [
        "split_tensor, split_tokenizer = tokenize(split_corpus)\n",
        "\n",
        "print(\"Split Vocab Size:\", len(split_tokenizer.index_word))"
      ]
    },
    {
      "cell_type": "code",
      "execution_count": null,
      "id": "57ca0b7e",
      "metadata": {
        "id": "57ca0b7e",
        "outputId": "184a93de-f3f0-4f4c-b0b2-b9be1c83fbf6"
      },
      "outputs": [
        {
          "name": "stdout",
          "output_type": "stream",
          "text": [
            "0 : 이\n",
            "1 : 밝혔다.\n",
            "2 : 있다.\n",
            "3 : 말했다.\n",
            "4 : 수\n",
            "5 : 있는\n",
            "6 : 그는\n",
            "7 : 대한\n",
            "8 : 위해\n",
            "9 : 전했다.\n",
            "10 : 지난\n",
            "11 : 이번\n"
          ]
        }
      ],
      "source": [
        "# 아래의 코드로 생성된 단어 사전을 확인해 볼 수 있습니다.\n",
        "\n",
        "for idx, word in enumerate(split_tokenizer.word_index):\n",
        "    print(idx, \":\", word)\n",
        "\n",
        "    if idx > 10: break"
      ]
    },
    {
      "cell_type": "markdown",
      "id": "59ef75ca",
      "metadata": {
        "id": "59ef75ca"
      },
      "source": [
        "동사로 이루어진 단어를 살피면 공백 기반 토큰화의 문제점을 확인할 수 있습니다. 1번 단어인 밝혔다. 는 밝히다 , 밝다 등과 유사한 의미를 지니고 있음에도 전혀 다른 단어로 분류되겠죠? 이 때문에 공백 기반 토큰화는 불필요하게 큰 단어 사전을 가지게 되며 이는 연산량 증가로 이어집니다.\n",
        "\n",
        "만일 밝 + 혔다 라고 토큰화했다면 어땠을까요? 밝 + 히다, 밝 + 다 같은 구절이 등장했을 때, 공통된 어절인 밝 은 하나로 묶여 학습 중에 의미를 파악하기가 수월해지겠죠? 동시에 단어 사전도 효율적으로 축소될 것입니다. 이를 위해 형태소 분석기가 존재합니다!"
      ]
    },
    {
      "cell_type": "markdown",
      "id": "98301e9d",
      "metadata": {
        "id": "98301e9d"
      },
      "source": [
        "# 형태소 기반 토큰화\n",
        "\n",
        "한국어 형태소 분석기는 대표적으로 Khaiii와 KoNLPy가 사용됩니다. 이번 코스에서는 KoNLPy, 그중에서도 가장 성능이 준수한 MeCab클래스를 활용해 실습하도록 하겠습니다!\n",
        "\n",
        "앞서 작성했던 코드를 활용해 MeCab 기반으로 생성된 단어 사전과 Tensor 데이터를 얻어 봅시다!"
      ]
    },
    {
      "cell_type": "code",
      "execution_count": null,
      "id": "73fbddf3",
      "metadata": {
        "id": "73fbddf3"
      },
      "outputs": [],
      "source": [
        "def mecab_split(sentence):\n",
        "    return mecab.morphs(sentence)\n",
        "\n",
        "mecab_corpus = []\n",
        "\n",
        "for kor in filtered_corpus:\n",
        "    mecab_corpus.append(mecab_split(kor))"
      ]
    },
    {
      "cell_type": "markdown",
      "id": "6bf87392",
      "metadata": {
        "id": "6bf87392"
      },
      "source": [
        "이제 형태소 기반 토큰화를 진행한 후, 단어 사전의 길이를 확인해 봅시다."
      ]
    },
    {
      "cell_type": "code",
      "execution_count": null,
      "id": "71ed6b42",
      "metadata": {
        "id": "71ed6b42",
        "outputId": "5d5329ee-23ce-4c02-9a2a-4be1cbdf352f"
      },
      "outputs": [
        {
          "name": "stdout",
          "output_type": "stream",
          "text": [
            "MeCab Vocab Size: 52279\n"
          ]
        }
      ],
      "source": [
        "mecab_tensor, mecab_tokenizer = tokenize(mecab_corpus)\n",
        "\n",
        "print(\"MeCab Vocab Size:\", len(mecab_tokenizer.index_word))"
      ]
    },
    {
      "cell_type": "markdown",
      "id": "848bd1e5",
      "metadata": {
        "id": "848bd1e5"
      },
      "source": [
        "앞서 실습했던 공백 기반 단어 사전에 비해 단어 수가 현저히 줄어든 것을 확인하셨을 겁니다. 이는 곧 연산량의 감소로 이어져 더 빠른 학습을 가능케 하고, 심지어 모델이 튜닝해야 하는 매개변수(Parameter) 수가 줄어들어 학습도 더 잘 된답니다! 적어도 한국어를 처리할 때는 공백 기반 토큰화를 절대 지양하셔야 해요!\n",
        "\n",
        "자주 사용되는 SentencePiece같은 Subword 기반 토큰화보다 형태소 분석기가 좋은 성능을 내는 사례들이 종종 있는데요, ETRI에서 발표한 한국어 BERT 모델인 KorBERT가 대표적인 사례 중 하나입니다. 아래 웹페이지를 방문하면 모델의 자세한 구조뿐 아니라 KorBERT 모델을 5가지 자연어 처리 태스크를 기준으로 평가했던 흥미로운 결과까지 살펴보실 수 있습니다!\n",
        "\n",
        "* [공공 인공지능 오픈 API·DATA 서비스 포털](https://aiopen.etri.re.kr/service_dataset.php)\n",
        "\n",
        "자연어 처리에서 토크나이저가 성능에 미치는 영향도가 크다는 것은 주지의 사실입니다만, 위 링크에서 발표된 평가 결과를 살펴볼 때 몇 가지 생각해 볼 만한 지점이 있습니다.\n",
        "\n",
        "아래 질문들에 대해 스스로 생각해 보고 본인의 생각을 정리해서 답변해 보시기 바랍니다. 사실 정답이 있는 문제는 아니기 때문입니다.\n",
        "\n",
        "https://lms.aiffel.io/course/366/node/457/step/3043"
      ]
    },
    {
      "cell_type": "markdown",
      "id": "4b9705e8",
      "metadata": {
        "id": "4b9705e8"
      },
      "source": [
        "지금까지 문장을 Tensor로 Encoding하는 과정을 배웠는데요.\n",
        "후에 모델이 생성한 Tensor를 문장으로 Decoding하는 과정도 필요하겠죠?\n",
        "\n",
        "tokenizer.sequences_to_texts() 함수를 사용하여 Decoding\n",
        "tokenizer.index_word 를 사용하여 Decoding\n",
        "\n",
        "두 가지 방법으로 mecab_tensor[100] 을 원문으로 되돌려 보세요!\n",
        "(여기서 띄어쓰기는 고려하지 않습니다!)"
      ]
    },
    {
      "cell_type": "code",
      "execution_count": null,
      "id": "1d0459a4",
      "metadata": {
        "id": "1d0459a4",
        "outputId": "f5830715-35da-4c8b-8aa0-a81886083426"
      },
      "outputs": [
        {
          "name": "stdout",
          "output_type": "stream",
          "text": [
            "저 는 ap 라디오 뉴스 의 존 벨몬트 였 습니다 . clinton global initiative 클린턴 글로벌 이니셔티브 , 클린턴 전 대통령 이 창설 한 자선 회의\n"
          ]
        }
      ],
      "source": [
        "# Case 1\n",
        "texts = mecab_tokenizer.sequences_to_texts([mecab_tensor[100]])\n",
        "print(texts[0])"
      ]
    },
    {
      "cell_type": "code",
      "execution_count": null,
      "id": "992aa283",
      "metadata": {
        "id": "992aa283",
        "outputId": "7840bf1c-0742-4b51-df30-3e407169701a"
      },
      "outputs": [
        {
          "name": "stdout",
          "output_type": "stream",
          "text": [
            "저 는 ap 라디오 뉴스 의 존 벨몬트 였 습니다 . clinton global initiative 클린턴 글로벌 이니셔티브 , 클린턴 전 대통령 이 창설 한 자선 회의 \n"
          ]
        }
      ],
      "source": [
        "# Case 2\n",
        "sentence = \"\"\n",
        "\n",
        "for w in mecab_tensor[100]:\n",
        "    if w == 0: continue\n",
        "    sentence += mecab_tokenizer.index_word[w] + \" \"\n",
        "\n",
        "print(sentence)"
      ]
    },
    {
      "cell_type": "markdown",
      "id": "1cf85e79",
      "metadata": {
        "id": "1cf85e79"
      },
      "source": [
        "# 프로젝트: SentencePiece 사용하기\n",
        "\n",
        "라이브러리 버전을 확인해 봅니다\n",
        "\n",
        "----\n",
        "사용할 라이브러리 버전을 둘러봅시다."
      ]
    },
    {
      "cell_type": "code",
      "execution_count": null,
      "id": "914dd4ff",
      "metadata": {
        "id": "914dd4ff",
        "outputId": "47ee3e0a-de70-4238-ea33-d7b646bdfb23"
      },
      "outputs": [
        {
          "name": "stdout",
          "output_type": "stream",
          "text": [
            "2.6.0\n",
            "1.21.4\n",
            "3.4.3\n",
            "0.5.2\n"
          ]
        }
      ],
      "source": [
        "import tensorflow as tf\n",
        "import numpy as np\n",
        "import matplotlib as plt\n",
        "import konlpy\n",
        "\n",
        "print(tf.__version__)\n",
        "print(np.__version__)\n",
        "print(plt.__version__)\n",
        "print(konlpy.__version__)"
      ]
    },
    {
      "cell_type": "markdown",
      "id": "015c4cc8",
      "metadata": {
        "id": "015c4cc8"
      },
      "source": [
        "## 루브릭\n",
        "\n",
        "아래의 기준을 바탕으로 프로젝트를 평가합니다.\n",
        "\n",
        "-----\n",
        "평가문항\t상세기준\n",
        "\n",
        "1. SentencePiece를 이용하여 모델을 만들기까지의 과정이 정상적으로 진행되었는가?\n",
        "\n",
        "> 코퍼스 분석, 전처리, SentencePiece 적용, 토크나이저 구현 및 동작이 빠짐없이 진행되었는가?\n",
        "\n",
        "2. SentencePiece를 통해 만든 Tokenizer가 자연어처리 모델과 결합하여 동작하는가?\n",
        "\n",
        "> SentencePiece 토크나이저가 적용된 Text Classifier 모델이 정상적으로 수렴하여 80% 이상의 test accuracy가 확인되었다.\n",
        "\n",
        "3. SentencePiece의 성능을 다각도로 비교분석하였는가?\n",
        "\n",
        "> SentencePiece 토크나이저를 활용했을 때의 성능을 다른 토크나이저 혹은 SentencePiece의 다른 옵션의 경우와 비교하여 분석을 체계적으로 진행하였다."
      ]
    },
    {
      "cell_type": "markdown",
      "id": "130b67ed",
      "metadata": {
        "id": "130b67ed"
      },
      "source": [
        "## Step 1. SentencePiece 설치하기\n",
        "\n",
        "SentencePiece는 Google에서 제공하는 오픈소스 기반 Sentence Tokenizer/Detokenizer 로서, BPE와 unigram 2가지 subword 토크나이징 모델 중 하나를 선택해서 사용할 수 있도록 패키징한 것입니다. 아래 링크의 페이지에서 상세한 내용을 파악할 수 있습니다.\n",
        "\n",
        "* [google/sentencepiece](https://github.com/google/sentencepiece)\n",
        "\n",
        "위 페이지의 서두에서도 언급하고 있듯, SentencePiece는 딥러닝 자연어처리 모델의 앞부분에 사용할 목적으로 최적화되어 있는데, 최근 pretrained model들이 거의 대부분 SentencePiece를 tokenizer로 채용하면서 사실상 표준의 역할을 하고 있습니다.\n",
        "\n",
        "다음과 같이 설치를 진행합니다. SentencePiece는 python에서 쓰라고 만들어진 라이브러리는 아니지만 편리한 파이썬 wrapper를 아래와 같이 제공하고 있습니다.\n",
        "\n",
        "$ pip install sentencepiece"
      ]
    },
    {
      "cell_type": "code",
      "execution_count": null,
      "id": "28a026f0",
      "metadata": {
        "id": "28a026f0",
        "outputId": "e5a8a075-c5fd-41de-f8d1-cc59821ac93d"
      },
      "outputs": [
        {
          "name": "stdout",
          "output_type": "stream",
          "text": [
            "Requirement already satisfied: sentencepiece in /opt/conda/lib/python3.9/site-packages (0.1.96)\n",
            "\u001b[33mWARNING: Running pip as the 'root' user can result in broken permissions and conflicting behaviour with the system package manager. It is recommended to use a virtual environment instead: https://pip.pypa.io/warnings/venv\u001b[0m\n"
          ]
        }
      ],
      "source": [
        "!pip install sentencepiece"
      ]
    },
    {
      "cell_type": "markdown",
      "id": "124d7fda",
      "metadata": {
        "id": "124d7fda"
      },
      "source": [
        "## Step 2. SentencePiece 모델 학습\n",
        "\n",
        "앞서 배운 tokenize() 함수를 기억하나요? 다시 한번 상기시켜드릴게요!\n",
        "\n",
        "def tokenize(corpus):  # corpus: Tokenized Sentence's List\n",
        "    tokenizer = tf.keras.preprocessing.text.Tokenizer(filters='')\n",
        "    tokenizer.fit_on_texts(corpus)\n",
        "\n",
        "    tensor = tokenizer.texts_to_sequences(corpus)\n",
        "\n",
        "    tensor = tf.keras.preprocessing.sequence.pad_sequences(tensor, padding='post')\n",
        "\n",
        "    return tensor, tokenizer\n",
        "    \n",
        "위와 같이 tf.keras.preprocessing.text.Tokenizer에 corpus를 주고 tokenizer.fit_on_texts(corpus)을 하면 토크나이저 내부적으로 단어사전과 토크나이저 기능을 corpus에 맞춤형으로 자동 생성해 주는 것입니다.\n",
        "\n",
        "그럼 이를 위해서 SentencePiece 모델을 학습하는 과정을 거쳐야 합니다."
      ]
    },
    {
      "cell_type": "code",
      "execution_count": null,
      "id": "99110e28",
      "metadata": {
        "id": "99110e28",
        "outputId": "2adccf65-1d51-4a72-d412-11a2cd71e97a"
      },
      "outputs": [
        {
          "name": "stderr",
          "output_type": "stream",
          "text": [
            "sentencepiece_trainer.cc(177) LOG(INFO) Running command: --input=/aiffel/aiffel/sp_tokenizer/data/korean-english-park.train.ko.temp --model_prefix=korean_spm --vocab_size=8000\n",
            "sentencepiece_trainer.cc(77) LOG(INFO) Starts training with : \n",
            "trainer_spec {\n",
            "  input: /aiffel/aiffel/sp_tokenizer/data/korean-english-park.train.ko.temp\n",
            "  input_format: \n",
            "  model_prefix: korean_spm\n",
            "  model_type: UNIGRAM\n",
            "  vocab_size: 8000\n",
            "  self_test_sample_size: 0\n",
            "  character_coverage: 0.9995\n",
            "  input_sentence_size: 0\n",
            "  shuffle_input_sentence: 1\n",
            "  seed_sentencepiece_size: 1000000\n",
            "  shrinking_factor: 0.75\n",
            "  max_sentence_length: 4192\n",
            "  num_threads: 16\n",
            "  num_sub_iterations: 2\n",
            "  max_sentencepiece_length: 16\n",
            "  split_by_unicode_script: 1\n",
            "  split_by_number: 1\n",
            "  split_by_whitespace: 1\n",
            "  split_digits: 0\n",
            "  treat_whitespace_as_suffix: 0\n",
            "  allow_whitespace_only_pieces: 0\n",
            "  required_chars: \n",
            "  byte_fallback: 0\n",
            "  vocabulary_output_piece_score: 1\n",
            "  train_extremely_large_corpus: 0\n",
            "  hard_vocab_limit: 1\n",
            "  use_all_vocab: 0\n",
            "  unk_id: 0\n",
            "  bos_id: 1\n",
            "  eos_id: 2\n",
            "  pad_id: -1\n",
            "  unk_piece: <unk>\n",
            "  bos_piece: <s>\n",
            "  eos_piece: </s>\n",
            "  pad_piece: <pad>\n",
            "  unk_surface:  ⁇ \n",
            "}\n",
            "normalizer_spec {\n",
            "  name: nmt_nfkc\n",
            "  add_dummy_prefix: 1\n",
            "  remove_extra_whitespaces: 1\n",
            "  escape_whitespaces: 1\n",
            "  normalization_rule_tsv: \n",
            "}\n",
            "denormalizer_spec {}\n",
            "trainer_interface.cc(329) LOG(INFO) SentenceIterator is not specified. Using MultiFileSentenceIterator.\n",
            "trainer_interface.cc(178) LOG(INFO) Loading corpus: /aiffel/aiffel/sp_tokenizer/data/korean-english-park.train.ko.temp\n",
            "trainer_interface.cc(385) LOG(INFO) Loaded all 76908 sentences\n",
            "trainer_interface.cc(400) LOG(INFO) Adding meta_piece: <unk>\n",
            "trainer_interface.cc(400) LOG(INFO) Adding meta_piece: <s>\n",
            "trainer_interface.cc(400) LOG(INFO) Adding meta_piece: </s>\n",
            "trainer_interface.cc(405) LOG(INFO) Normalizing sentences...\n",
            "trainer_interface.cc(466) LOG(INFO) all chars count=4996369\n",
            "trainer_interface.cc(477) LOG(INFO) Done: 99.95% characters are covered.\n",
            "trainer_interface.cc(487) LOG(INFO) Alphabet size=1317\n",
            "trainer_interface.cc(488) LOG(INFO) Final character coverage=0.9995\n",
            "trainer_interface.cc(520) LOG(INFO) Done! preprocessed 76908 sentences.\n",
            "unigram_model_trainer.cc(139) LOG(INFO) Making suffix array...\n",
            "unigram_model_trainer.cc(143) LOG(INFO) Extracting frequent sub strings...\n",
            "unigram_model_trainer.cc(194) LOG(INFO) Initialized 174340 seed sentencepieces\n",
            "trainer_interface.cc(526) LOG(INFO) Tokenizing input sentences with whitespace: 76908\n",
            "trainer_interface.cc(537) LOG(INFO) Done! 237965\n",
            "unigram_model_trainer.cc(489) LOG(INFO) Using 237965 sentences for EM training\n",
            "unigram_model_trainer.cc(505) LOG(INFO) EM sub_iter=0 size=92555 obj=14.853 num_tokens=523272 num_tokens/piece=5.65363\n",
            "unigram_model_trainer.cc(505) LOG(INFO) EM sub_iter=1 size=82083 obj=13.516 num_tokens=525776 num_tokens/piece=6.40542\n",
            "unigram_model_trainer.cc(505) LOG(INFO) EM sub_iter=0 size=61555 obj=13.5533 num_tokens=546907 num_tokens/piece=8.88485\n",
            "unigram_model_trainer.cc(505) LOG(INFO) EM sub_iter=1 size=61506 obj=13.5101 num_tokens=547350 num_tokens/piece=8.89913\n",
            "unigram_model_trainer.cc(505) LOG(INFO) EM sub_iter=0 size=46126 obj=13.6926 num_tokens=575369 num_tokens/piece=12.4739\n",
            "unigram_model_trainer.cc(505) LOG(INFO) EM sub_iter=1 size=46126 obj=13.6493 num_tokens=575466 num_tokens/piece=12.476\n",
            "unigram_model_trainer.cc(505) LOG(INFO) EM sub_iter=0 size=34594 obj=13.8894 num_tokens=606014 num_tokens/piece=17.5179\n",
            "unigram_model_trainer.cc(505) LOG(INFO) EM sub_iter=1 size=34594 obj=13.8387 num_tokens=606012 num_tokens/piece=17.5178\n",
            "unigram_model_trainer.cc(505) LOG(INFO) EM sub_iter=0 size=25945 obj=14.1301 num_tokens=637532 num_tokens/piece=24.5724\n",
            "unigram_model_trainer.cc(505) LOG(INFO) EM sub_iter=1 size=25945 obj=14.0747 num_tokens=637568 num_tokens/piece=24.5738\n",
            "unigram_model_trainer.cc(505) LOG(INFO) EM sub_iter=0 size=19458 obj=14.4091 num_tokens=670960 num_tokens/piece=34.4825\n",
            "unigram_model_trainer.cc(505) LOG(INFO) EM sub_iter=1 size=19458 obj=14.3468 num_tokens=670999 num_tokens/piece=34.4845\n",
            "unigram_model_trainer.cc(505) LOG(INFO) EM sub_iter=0 size=14593 obj=14.7196 num_tokens=705636 num_tokens/piece=48.3544\n",
            "unigram_model_trainer.cc(505) LOG(INFO) EM sub_iter=1 size=14593 obj=14.648 num_tokens=705645 num_tokens/piece=48.355\n",
            "unigram_model_trainer.cc(505) LOG(INFO) EM sub_iter=0 size=10944 obj=15.0875 num_tokens=741620 num_tokens/piece=67.765\n",
            "unigram_model_trainer.cc(505) LOG(INFO) EM sub_iter=1 size=10944 obj=15.007 num_tokens=741624 num_tokens/piece=67.7654\n",
            "unigram_model_trainer.cc(505) LOG(INFO) EM sub_iter=0 size=8800 obj=15.3757 num_tokens=769363 num_tokens/piece=87.4276\n",
            "unigram_model_trainer.cc(505) LOG(INFO) EM sub_iter=1 size=8800 obj=15.307 num_tokens=769367 num_tokens/piece=87.4281\n",
            "trainer_interface.cc(615) LOG(INFO) Saving model: korean_spm.model\n",
            "trainer_interface.cc(626) LOG(INFO) Saving vocabs: korean_spm.vocab\n"
          ]
        },
        {
          "name": "stdout",
          "output_type": "stream",
          "text": [
            "-rw-r--r-- 1 root root 376816 Nov 29 06:37 korean_spm.model\r\n",
            "-rw-r--r-- 1 root root 146213 Nov 29 06:37 korean_spm.vocab\r\n"
          ]
        }
      ],
      "source": [
        "import sentencepiece as spm\n",
        "import os\n",
        "temp_file = os.getenv('HOME')+'/aiffel/sp_tokenizer/data/korean-english-park.train.ko.temp'\n",
        "\n",
        "vocab_size = 8000\n",
        "\n",
        "with open(temp_file, 'w') as f:\n",
        "    for row in filtered_corpus:   # 이전 스텝에서 정제했던 corpus를 활용합니다.\n",
        "        f.write(str(row) + '\\n')\n",
        "\n",
        "spm.SentencePieceTrainer.Train(\n",
        "    '--input={} --model_prefix=korean_spm --vocab_size={}'.format(temp_file, vocab_size)    \n",
        ")\n",
        "#위 Train에서  --model_type = 'unigram'이 디폴트 적용되어 있습니다. --model_type = 'bpe' 로 옵션을 주어 변경할 수 있습니다.\n",
        "\n",
        "!ls -l korean_spm*"
      ]
    },
    {
      "cell_type": "markdown",
      "id": "090a1a02",
      "metadata": {
        "id": "090a1a02"
      },
      "source": [
        "위 코드를 실행하면 정상적으로 SentencePiece 모델 학습이 완료된 후 korean_spm.model 파일과 korean_spm.vocab vocabulary 파일이 생성되었음을 확인할 수 있습니다.\n",
        "\n",
        "그럼 이렇게 학습된 SentencePiece 모델을 어떻게 활용하는지 살펴보겠습니다.\n",
        "\n"
      ]
    },
    {
      "cell_type": "code",
      "execution_count": null,
      "id": "bb46440b",
      "metadata": {
        "id": "bb46440b",
        "outputId": "473931b3-7927-4ea5-8174-26dbe2bb32af"
      },
      "outputs": [
        {
          "name": "stdout",
          "output_type": "stream",
          "text": [
            "[1243, 11, 302, 7, 3608, 11, 287, 38, 3]\n",
            "['▁아버지', '가', '방', '에', '들어', '가', '신', '다', '.']\n",
            "아버지가방에들어가신다.\n"
          ]
        }
      ],
      "source": [
        "s = spm.SentencePieceProcessor()\n",
        "s.Load('korean_spm.model')\n",
        "\n",
        "# SentencePiece를 활용한 sentence -> encoding\n",
        "tokensIDs = s.EncodeAsIds('아버지가방에들어가신다.')\n",
        "print(tokensIDs)\n",
        "\n",
        "# SentencePiece를 활용한 sentence -> encoded pieces\n",
        "print(s.SampleEncodeAsPieces('아버지가방에들어가신다.',1, 0.0))\n",
        "\n",
        "# SentencePiece를 활용한 encoding -> sentence 복원\n",
        "print(s.DecodeIds(tokensIDs))\n",
        "\n",
        "# 어떻습니까? SentencePiece의 토크나이징 실력이 괜찮은 것 같습니다."
      ]
    },
    {
      "cell_type": "markdown",
      "id": "b0071eac",
      "metadata": {
        "id": "b0071eac"
      },
      "source": [
        "## Step 3. Tokenizer 함수 작성\n",
        "\n",
        "우리는 위에서 훈련시킨 SentencePiece를 활용하여 위 함수와 유사한 기능을 하는 sp_tokenize() 함수를 정의할 겁니다. 하지만 SentencePiece가 동작하는 방식이 단순 토큰화와는 달라 완전히 동일하게는 정의하기 어렵습니다. 그러니 아래 조건을 만족하는 함수를 정의하도록 하습니다.\n",
        "\n",
        "> 1. 매개변수로 토큰화된 문장의 list를 전달하는 대신 온전한 문장의 list 를 전달합니다.\n",
        "\n",
        "> 2. 생성된 vocab 파일을 읽어와 { <word\\> : <idx\\> } 형태를 가지는 word_index 사전과 { <idx\\> : <word\\>} 형태를 가지는 index_word 사전을 생성하고 함께 반환합니다.\n",
        "\n",
        "> 3. 리턴값인 tensor 는 앞의 함수와 동일하게 토큰화한 후 Encoding된 문장입니다. 바로 학습에 사용할 수 있게 Padding은 당연히 해야겠죠?\n",
        "\n"
      ]
    },
    {
      "cell_type": "code",
      "execution_count": null,
      "id": "dec2d746",
      "metadata": {
        "id": "dec2d746"
      },
      "outputs": [],
      "source": [
        "def sp_tokenize(s, corpus):\n",
        "\n",
        "    tensor = []\n",
        "\n",
        "    for sen in corpus:\n",
        "        tensor.append(s.EncodeAsIds(sen))\n",
        "\n",
        "    with open(\"./korean_spm.vocab\", 'r') as f:\n",
        "        vocab = f.readlines()\n",
        "\n",
        "    word_index = {}\n",
        "    index_word = {}\n",
        "\n",
        "    for idx, line in enumerate(vocab):\n",
        "        word = line.split(\"\\t\")[0]\n",
        "\n",
        "        word_index.update({word:idx})\n",
        "        index_word.update({idx:word})\n",
        "\n",
        "    tensor = tf.keras.preprocessing.sequence.pad_sequences(tensor, padding='post')\n",
        "\n",
        "    return tensor, word_index, index_word"
      ]
    },
    {
      "cell_type": "code",
      "execution_count": null,
      "id": "ebd93f8c",
      "metadata": {
        "id": "ebd93f8c",
        "outputId": "be3530be-40e9-40f1-a1a5-1e670510c643"
      },
      "outputs": [
        {
          "name": "stdout",
          "output_type": "stream",
          "text": [
            "[[1956 5665    5    4 7975 1990    3    0    0    0    0    0    0    0]\n",
            " [ 107 1641  101    4    0  417   11    4   14    0 1976    3    3    3]]\n"
          ]
        }
      ],
      "source": [
        "#sp_tokenize(s, corpus) 사용예제\n",
        "\n",
        "my_corpus = ['나는 밥을 먹었습니다.', '그러나 여전히 ㅠㅠ 배가 고픕니다...']\n",
        "tensor, word_index, index_word = sp_tokenize(s, my_corpus)\n",
        "print(tensor)"
      ]
    },
    {
      "cell_type": "markdown",
      "id": "005f1b20",
      "metadata": {
        "id": "005f1b20"
      },
      "source": [
        "## Step 4. 네이버 영화리뷰 감정 분석 문제에 SentencePiece 적용해 보기\n",
        "\n",
        "[네이버 영화리뷰 감정 분석 태스크](https://github.com/e9t/nsmc/)가 있습니다. 한국어로 된 corpus를 다루어야 하므로 주로 KoNLPy에서 제공하는 형태소 분석기를 사용하여 텍스트를 전처리해서 RNN 모델을 분류기로 사용하게 되는데요.\n",
        "\n",
        "만약 이 문제에서 tokenizer를 SentencePiece로 바꾸어 다시 풀어본다면 더 성능이 좋아질까요? KoNLPy에 있는 Mecab, kkma, Okt 등과 비교해보세요.\n",
        "\n",
        "1. 네이버 영화리뷰 감정 분석 코퍼스에 SentencePiece를 적용시킨 모델 학습하기\n",
        "2. 학습된 모델로 sp_tokenize() 메소드 구현하기\n",
        "3. 구현된 토크나이저를 적용하여 네이버 영화리뷰 감정 분석 모델을 재학습하기\n",
        "4. KoNLPy 형태소 분석기를 사용한 모델과 성능 비교하기\n",
        "5. SentencePiece 모델의 model_type, vocab_size 등을 변경해 가면서 성능 개선 여부 확인하기\n",
        "\n",
        "Word Vector는 활용할 필요가 없습니다. 활용이 가능하지도 않을 것입니다."
      ]
    },
    {
      "cell_type": "markdown",
      "id": "82032cda",
      "metadata": {
        "id": "82032cda"
      },
      "source": [
        "### 라이브러리 임포팅"
      ]
    },
    {
      "cell_type": "code",
      "execution_count": null,
      "id": "bafdf3c2",
      "metadata": {
        "id": "bafdf3c2"
      },
      "outputs": [],
      "source": [
        "import pandas as pd\n",
        "import konlpy\n",
        "import gensim"
      ]
    },
    {
      "cell_type": "markdown",
      "id": "5fb880d2",
      "metadata": {
        "id": "5fb880d2"
      },
      "source": [
        "### 데이터 불러오기"
      ]
    },
    {
      "cell_type": "code",
      "execution_count": null,
      "id": "a7991ef6",
      "metadata": {
        "id": "a7991ef6",
        "outputId": "7e207bb0-8ddf-43c1-b5d0-8b0cb2dfb38c"
      },
      "outputs": [
        {
          "data": {
            "text/html": [
              "<div>\n",
              "<style scoped>\n",
              "    .dataframe tbody tr th:only-of-type {\n",
              "        vertical-align: middle;\n",
              "    }\n",
              "\n",
              "    .dataframe tbody tr th {\n",
              "        vertical-align: top;\n",
              "    }\n",
              "\n",
              "    .dataframe thead th {\n",
              "        text-align: right;\n",
              "    }\n",
              "</style>\n",
              "<table border=\"1\" class=\"dataframe\">\n",
              "  <thead>\n",
              "    <tr style=\"text-align: right;\">\n",
              "      <th></th>\n",
              "      <th>id</th>\n",
              "      <th>document</th>\n",
              "      <th>label</th>\n",
              "    </tr>\n",
              "  </thead>\n",
              "  <tbody>\n",
              "    <tr>\n",
              "      <th>0</th>\n",
              "      <td>9976970</td>\n",
              "      <td>아 더빙.. 진짜 짜증나네요 목소리</td>\n",
              "      <td>0</td>\n",
              "    </tr>\n",
              "    <tr>\n",
              "      <th>1</th>\n",
              "      <td>3819312</td>\n",
              "      <td>흠...포스터보고 초딩영화줄....오버연기조차 가볍지 않구나</td>\n",
              "      <td>1</td>\n",
              "    </tr>\n",
              "    <tr>\n",
              "      <th>2</th>\n",
              "      <td>10265843</td>\n",
              "      <td>너무재밓었다그래서보는것을추천한다</td>\n",
              "      <td>0</td>\n",
              "    </tr>\n",
              "    <tr>\n",
              "      <th>3</th>\n",
              "      <td>9045019</td>\n",
              "      <td>교도소 이야기구먼 ..솔직히 재미는 없다..평점 조정</td>\n",
              "      <td>0</td>\n",
              "    </tr>\n",
              "    <tr>\n",
              "      <th>4</th>\n",
              "      <td>6483659</td>\n",
              "      <td>사이몬페그의 익살스런 연기가 돋보였던 영화!스파이더맨에서 늙어보이기만 했던 커스틴 ...</td>\n",
              "      <td>1</td>\n",
              "    </tr>\n",
              "  </tbody>\n",
              "</table>\n",
              "</div>"
            ],
            "text/plain": [
              "         id                                           document  label\n",
              "0   9976970                                아 더빙.. 진짜 짜증나네요 목소리      0\n",
              "1   3819312                  흠...포스터보고 초딩영화줄....오버연기조차 가볍지 않구나      1\n",
              "2  10265843                                  너무재밓었다그래서보는것을추천한다      0\n",
              "3   9045019                      교도소 이야기구먼 ..솔직히 재미는 없다..평점 조정      0\n",
              "4   6483659  사이몬페그의 익살스런 연기가 돋보였던 영화!스파이더맨에서 늙어보이기만 했던 커스틴 ...      1"
            ]
          },
          "metadata": {},
          "output_type": "display_data"
        },
        {
          "data": {
            "text/html": [
              "<div>\n",
              "<style scoped>\n",
              "    .dataframe tbody tr th:only-of-type {\n",
              "        vertical-align: middle;\n",
              "    }\n",
              "\n",
              "    .dataframe tbody tr th {\n",
              "        vertical-align: top;\n",
              "    }\n",
              "\n",
              "    .dataframe thead th {\n",
              "        text-align: right;\n",
              "    }\n",
              "</style>\n",
              "<table border=\"1\" class=\"dataframe\">\n",
              "  <thead>\n",
              "    <tr style=\"text-align: right;\">\n",
              "      <th></th>\n",
              "      <th>id</th>\n",
              "      <th>document</th>\n",
              "      <th>label</th>\n",
              "    </tr>\n",
              "  </thead>\n",
              "  <tbody>\n",
              "    <tr>\n",
              "      <th>0</th>\n",
              "      <td>6270596</td>\n",
              "      <td>굳 ㅋ</td>\n",
              "      <td>1</td>\n",
              "    </tr>\n",
              "    <tr>\n",
              "      <th>1</th>\n",
              "      <td>9274899</td>\n",
              "      <td>GDNTOPCLASSINTHECLUB</td>\n",
              "      <td>0</td>\n",
              "    </tr>\n",
              "    <tr>\n",
              "      <th>2</th>\n",
              "      <td>8544678</td>\n",
              "      <td>뭐야 이 평점들은.... 나쁘진 않지만 10점 짜리는 더더욱 아니잖아</td>\n",
              "      <td>0</td>\n",
              "    </tr>\n",
              "    <tr>\n",
              "      <th>3</th>\n",
              "      <td>6825595</td>\n",
              "      <td>지루하지는 않은데 완전 막장임... 돈주고 보기에는....</td>\n",
              "      <td>0</td>\n",
              "    </tr>\n",
              "    <tr>\n",
              "      <th>4</th>\n",
              "      <td>6723715</td>\n",
              "      <td>3D만 아니었어도 별 다섯 개 줬을텐데.. 왜 3D로 나와서 제 심기를 불편하게 하죠??</td>\n",
              "      <td>0</td>\n",
              "    </tr>\n",
              "  </tbody>\n",
              "</table>\n",
              "</div>"
            ],
            "text/plain": [
              "        id                                           document  label\n",
              "0  6270596                                                굳 ㅋ      1\n",
              "1  9274899                               GDNTOPCLASSINTHECLUB      0\n",
              "2  8544678             뭐야 이 평점들은.... 나쁘진 않지만 10점 짜리는 더더욱 아니잖아      0\n",
              "3  6825595                   지루하지는 않은데 완전 막장임... 돈주고 보기에는....      0\n",
              "4  6723715  3D만 아니었어도 별 다섯 개 줬을텐데.. 왜 3D로 나와서 제 심기를 불편하게 하죠??      0"
            ]
          },
          "metadata": {},
          "output_type": "display_data"
        }
      ],
      "source": [
        "# 데이터를 읽어봅시다. \n",
        "train_data = pd.read_table('~/aiffel/text_preprocess/ratings_train.txt')\n",
        "test_data = pd.read_table('~/aiffel/text_preprocess/ratings_test.txt')\n",
        "\n",
        "display(train_data.head())\n",
        "display(test_data.head())"
      ]
    },
    {
      "cell_type": "code",
      "execution_count": null,
      "id": "ea299747",
      "metadata": {
        "id": "ea299747",
        "outputId": "8108d0a0-9bf8-4d6c-bbf4-260030289ac5"
      },
      "outputs": [
        {
          "name": "stdout",
          "output_type": "stream",
          "text": [
            "150000\n",
            "50000\n"
          ]
        }
      ],
      "source": [
        "# 데이터 크기 확인\n",
        "print(len(train_data))\n",
        "print(len(test_data))"
      ]
    },
    {
      "cell_type": "code",
      "execution_count": null,
      "id": "bc9010a6",
      "metadata": {
        "id": "bc9010a6",
        "outputId": "2e3cd663-f686-4189-fc9e-041672971b10"
      },
      "outputs": [
        {
          "name": "stdout",
          "output_type": "stream",
          "text": [
            "146182\n",
            "49157\n"
          ]
        }
      ],
      "source": [
        "# 중복되는 데이터 제거\n",
        "train_data.drop_duplicates(subset=['document'], inplace=True)\n",
        "test_data.drop_duplicates(subset=['document'], inplace=True)\n",
        "\n",
        "# 결측치가 있는 행 제거\n",
        "train_data = train_data.dropna()\n",
        "test_data = test_data.dropna()\n",
        "\n",
        "# 데이터 크기 다시 확인\n",
        "print(len(train_data))\n",
        "print(len(test_data))\n"
      ]
    },
    {
      "cell_type": "markdown",
      "id": "73ed008f",
      "metadata": {
        "id": "73ed008f"
      },
      "source": [
        "### 데이터 전처리"
      ]
    },
    {
      "cell_type": "code",
      "execution_count": null,
      "id": "32c7ff9a",
      "metadata": {
        "id": "32c7ff9a",
        "outputId": "67caeb2b-a718-4a0a-be83-4cc38dd4cc54"
      },
      "outputs": [
        {
          "name": "stderr",
          "output_type": "stream",
          "text": [
            "/tmp/ipykernel_31/3655971363.py:4: FutureWarning: The default value of regex will change from True to False in a future version.\n",
            "  train_data['document'] = train_data['document'].str.replace(\"[^ㄱ-ㅎㅏ-ㅣ가-힣 ]\",\"\")\n"
          ]
        },
        {
          "data": {
            "text/html": [
              "<div>\n",
              "<style scoped>\n",
              "    .dataframe tbody tr th:only-of-type {\n",
              "        vertical-align: middle;\n",
              "    }\n",
              "\n",
              "    .dataframe tbody tr th {\n",
              "        vertical-align: top;\n",
              "    }\n",
              "\n",
              "    .dataframe thead th {\n",
              "        text-align: right;\n",
              "    }\n",
              "</style>\n",
              "<table border=\"1\" class=\"dataframe\">\n",
              "  <thead>\n",
              "    <tr style=\"text-align: right;\">\n",
              "      <th></th>\n",
              "      <th>id</th>\n",
              "      <th>document</th>\n",
              "      <th>label</th>\n",
              "    </tr>\n",
              "  </thead>\n",
              "  <tbody>\n",
              "    <tr>\n",
              "      <th>0</th>\n",
              "      <td>9976970</td>\n",
              "      <td>아 더빙 진짜 짜증나네요 목소리</td>\n",
              "      <td>0</td>\n",
              "    </tr>\n",
              "    <tr>\n",
              "      <th>1</th>\n",
              "      <td>3819312</td>\n",
              "      <td>흠포스터보고 초딩영화줄오버연기조차 가볍지 않구나</td>\n",
              "      <td>1</td>\n",
              "    </tr>\n",
              "    <tr>\n",
              "      <th>2</th>\n",
              "      <td>10265843</td>\n",
              "      <td>너무재밓었다그래서보는것을추천한다</td>\n",
              "      <td>0</td>\n",
              "    </tr>\n",
              "    <tr>\n",
              "      <th>3</th>\n",
              "      <td>9045019</td>\n",
              "      <td>교도소 이야기구먼 솔직히 재미는 없다평점 조정</td>\n",
              "      <td>0</td>\n",
              "    </tr>\n",
              "    <tr>\n",
              "      <th>4</th>\n",
              "      <td>6483659</td>\n",
              "      <td>사이몬페그의 익살스런 연기가 돋보였던 영화스파이더맨에서 늙어보이기만 했던 커스틴 던...</td>\n",
              "      <td>1</td>\n",
              "    </tr>\n",
              "  </tbody>\n",
              "</table>\n",
              "</div>"
            ],
            "text/plain": [
              "         id                                           document  label\n",
              "0   9976970                                  아 더빙 진짜 짜증나네요 목소리      0\n",
              "1   3819312                         흠포스터보고 초딩영화줄오버연기조차 가볍지 않구나      1\n",
              "2  10265843                                  너무재밓었다그래서보는것을추천한다      0\n",
              "3   9045019                          교도소 이야기구먼 솔직히 재미는 없다평점 조정      0\n",
              "4   6483659  사이몬페그의 익살스런 연기가 돋보였던 영화스파이더맨에서 늙어보이기만 했던 커스틴 던...      1"
            ]
          },
          "execution_count": 72,
          "metadata": {},
          "output_type": "execute_result"
        }
      ],
      "source": [
        "# 학습 데이터 전처리\n",
        "# 한글과 공백을 제외한 문자들을 모두 공백으로 바꾼다.\n",
        "\n",
        "train_data['document'] = train_data['document'].str.replace(\"[^ㄱ-ㅎㅏ-ㅣ가-힣 ]\",\"\")\n",
        "train_data[:5]"
      ]
    },
    {
      "cell_type": "code",
      "execution_count": null,
      "id": "6bfccfe8",
      "metadata": {
        "id": "6bfccfe8",
        "outputId": "d657c007-2430-4f70-9fab-5cbb23b8eb12"
      },
      "outputs": [
        {
          "name": "stderr",
          "output_type": "stream",
          "text": [
            "/tmp/ipykernel_31/3173845585.py:4: FutureWarning: The default value of regex will change from True to False in a future version.\n",
            "  test_data['document'] = test_data['document'].str.replace(\"[^ㄱ-ㅎㅏ-ㅣ가-힣 ]\",\"\")\n"
          ]
        },
        {
          "data": {
            "text/html": [
              "<div>\n",
              "<style scoped>\n",
              "    .dataframe tbody tr th:only-of-type {\n",
              "        vertical-align: middle;\n",
              "    }\n",
              "\n",
              "    .dataframe tbody tr th {\n",
              "        vertical-align: top;\n",
              "    }\n",
              "\n",
              "    .dataframe thead th {\n",
              "        text-align: right;\n",
              "    }\n",
              "</style>\n",
              "<table border=\"1\" class=\"dataframe\">\n",
              "  <thead>\n",
              "    <tr style=\"text-align: right;\">\n",
              "      <th></th>\n",
              "      <th>id</th>\n",
              "      <th>document</th>\n",
              "      <th>label</th>\n",
              "    </tr>\n",
              "  </thead>\n",
              "  <tbody>\n",
              "    <tr>\n",
              "      <th>0</th>\n",
              "      <td>6270596</td>\n",
              "      <td>굳 ㅋ</td>\n",
              "      <td>1</td>\n",
              "    </tr>\n",
              "    <tr>\n",
              "      <th>1</th>\n",
              "      <td>9274899</td>\n",
              "      <td></td>\n",
              "      <td>0</td>\n",
              "    </tr>\n",
              "    <tr>\n",
              "      <th>2</th>\n",
              "      <td>8544678</td>\n",
              "      <td>뭐야 이 평점들은 나쁘진 않지만 점 짜리는 더더욱 아니잖아</td>\n",
              "      <td>0</td>\n",
              "    </tr>\n",
              "    <tr>\n",
              "      <th>3</th>\n",
              "      <td>6825595</td>\n",
              "      <td>지루하지는 않은데 완전 막장임 돈주고 보기에는</td>\n",
              "      <td>0</td>\n",
              "    </tr>\n",
              "    <tr>\n",
              "      <th>4</th>\n",
              "      <td>6723715</td>\n",
              "      <td>만 아니었어도 별 다섯 개 줬을텐데 왜 로 나와서 제 심기를 불편하게 하죠</td>\n",
              "      <td>0</td>\n",
              "    </tr>\n",
              "  </tbody>\n",
              "</table>\n",
              "</div>"
            ],
            "text/plain": [
              "        id                                   document  label\n",
              "0  6270596                                        굳 ㅋ      1\n",
              "1  9274899                                                 0\n",
              "2  8544678           뭐야 이 평점들은 나쁘진 않지만 점 짜리는 더더욱 아니잖아      0\n",
              "3  6825595                  지루하지는 않은데 완전 막장임 돈주고 보기에는      0\n",
              "4  6723715  만 아니었어도 별 다섯 개 줬을텐데 왜 로 나와서 제 심기를 불편하게 하죠      0"
            ]
          },
          "execution_count": 73,
          "metadata": {},
          "output_type": "execute_result"
        }
      ],
      "source": [
        "# 테스트 데이터 전처리\n",
        "# 한글과 공백을 제외한 문자들을 모두 공백으로 바꾼다.\n",
        "\n",
        "test_data['document'] = test_data['document'].str.replace(\"[^ㄱ-ㅎㅏ-ㅣ가-힣 ]\",\"\")\n",
        "test_data[:5]"
      ]
    },
    {
      "cell_type": "code",
      "execution_count": null,
      "id": "2c99dbfc",
      "metadata": {
        "id": "2c99dbfc",
        "outputId": "b00d2bc2-feb2-473f-ca38-802a723073a8"
      },
      "outputs": [
        {
          "name": "stdout",
          "output_type": "stream",
          "text": [
            "Data Size: 146182\n",
            "문장의 최단 길이: 0\n",
            "문장의 최장 길이: 140\n",
            "문장의 평균 길이: 32\n"
          ]
        },
        {
          "data": {
            "image/png": "[encoded data removed]",
            "text/plain": [
              "<Figure size 432x288 with 1 Axes>"
            ]
          },
          "metadata": {
            "needs_background": "light"
          },
          "output_type": "display_data"
        }
      ],
      "source": [
        "# 데이터의 문장 길이 조절\n",
        "\n",
        "min_len = 999\n",
        "max_len = 0\n",
        "sum_len = 0\n",
        "\n",
        "print(\"Data Size:\", len(train_data))\n",
        "\n",
        "for sen in train_data['document']:\n",
        "    length = len(sen)\n",
        "    if min_len > length: min_len = length\n",
        "    if max_len < length: max_len = length\n",
        "    sum_len += length\n",
        "\n",
        "print(\"문장의 최단 길이:\", min_len)\n",
        "print(\"문장의 최장 길이:\", max_len)\n",
        "print(\"문장의 평균 길이:\", sum_len // len(train_data))\n",
        "\n",
        "sentence_length = np.zeros((max_len), dtype=np.int64)\n",
        "\n",
        "for sen in train_data['document']: \n",
        "    sentence_length[len(sen)-1] += 1\n",
        "\n",
        "plt.bar(range(max_len), sentence_length, width=1.0)\n",
        "plt.title(\"Sentence Length Distribution\")\n",
        "plt.show()"
      ]
    },
    {
      "cell_type": "code",
      "execution_count": null,
      "id": "8160d73a",
      "metadata": {
        "id": "8160d73a",
        "outputId": "bbff2152-cadc-4d3d-9a74-d2d0395dee9d"
      },
      "outputs": [
        {
          "name": "stdout",
          "output_type": "stream",
          "text": [
            "문장의 길이가 50 보다 긴 문장의 비율은 16.116211298244654 %입니다. \n"
          ]
        }
      ],
      "source": [
        "length_check = 50\n",
        "i = 0\n",
        "\n",
        "for sen in train_data['document']:\n",
        "    length = len(sen)\n",
        "    if length > length_check: i += 1\n",
        "        \n",
        "rate = i*100/len(train_data)\n",
        "print(\"문장의 길이가\", length_check, \"보다 긴 문장의 비율은\", rate, \"%입니다. \"  )"
      ]
    },
    {
      "cell_type": "markdown",
      "id": "3f5b62cd",
      "metadata": {
        "id": "3f5b62cd"
      },
      "source": [
        "* 위에서 데이터의 문장 길이 분포를 보니 대부분의 데이터가 해당되는 길이인 50개 안 쪽으로 두면 될 것으로 보인다.\n",
        "* 문장의 길이가 0인 데이터는 필요 없으므로 최소길이는 1로 둔다."
      ]
    },
    {
      "cell_type": "code",
      "execution_count": null,
      "id": "43d13a4e",
      "metadata": {
        "id": "43d13a4e",
        "outputId": "b4cda6b3-c170-4953-f177-ecbbab211a0f"
      },
      "outputs": [
        {
          "data": {
            "image/png": "[encoded data removed]",
            "text/plain": [
              "<Figure size 432x288 with 1 Axes>"
            ]
          },
          "metadata": {
            "needs_background": "light"
          },
          "output_type": "display_data"
        }
      ],
      "source": [
        "max_len = 50\n",
        "min_len = 1\n",
        "\n",
        "# 길이 조건에 맞는 문장만 선택합니다.\n",
        "filtered_train = [s for s in train_data['document'] if (len(s) <= max_len) & (len(s) >= min_len)]\n",
        "\n",
        "# 분포도를 다시 그려봅니다.\n",
        "sentence_length = np.zeros((max_len + 1), dtype=np.int64)\n",
        "\n",
        "for sen in filtered_train:\n",
        "    sentence_length[len(sen)] += 1\n",
        "\n",
        "plt.bar(range(max_len+1), sentence_length, width=1.0)\n",
        "plt.title(\"Sentence Length Distribution\")\n",
        "plt.show()"
      ]
    },
    {
      "cell_type": "code",
      "execution_count": null,
      "id": "72683ab5",
      "metadata": {
        "id": "72683ab5",
        "outputId": "dc57915b-8d7f-4e8b-9e58-a55463fd14a2"
      },
      "outputs": [
        {
          "data": {
            "text/html": [
              "<div>\n",
              "<style scoped>\n",
              "    .dataframe tbody tr th:only-of-type {\n",
              "        vertical-align: middle;\n",
              "    }\n",
              "\n",
              "    .dataframe tbody tr th {\n",
              "        vertical-align: top;\n",
              "    }\n",
              "\n",
              "    .dataframe thead th {\n",
              "        text-align: right;\n",
              "    }\n",
              "</style>\n",
              "<table border=\"1\" class=\"dataframe\">\n",
              "  <thead>\n",
              "    <tr style=\"text-align: right;\">\n",
              "      <th></th>\n",
              "      <th>id</th>\n",
              "      <th>document</th>\n",
              "      <th>label</th>\n",
              "    </tr>\n",
              "  </thead>\n",
              "  <tbody>\n",
              "    <tr>\n",
              "      <th>0</th>\n",
              "      <td>9976970</td>\n",
              "      <td>아 더빙 진짜 짜증나네요 목소리</td>\n",
              "      <td>0</td>\n",
              "    </tr>\n",
              "    <tr>\n",
              "      <th>1</th>\n",
              "      <td>3819312</td>\n",
              "      <td>흠포스터보고 초딩영화줄오버연기조차 가볍지 않구나</td>\n",
              "      <td>1</td>\n",
              "    </tr>\n",
              "    <tr>\n",
              "      <th>2</th>\n",
              "      <td>10265843</td>\n",
              "      <td>너무재밓었다그래서보는것을추천한다</td>\n",
              "      <td>0</td>\n",
              "    </tr>\n",
              "    <tr>\n",
              "      <th>3</th>\n",
              "      <td>9045019</td>\n",
              "      <td>교도소 이야기구먼 솔직히 재미는 없다평점 조정</td>\n",
              "      <td>0</td>\n",
              "    </tr>\n",
              "    <tr>\n",
              "      <th>4</th>\n",
              "      <td>5403919</td>\n",
              "      <td>막 걸음마 뗀 세부터 초등학교 학년생인 살용영화ㅋㅋㅋ별반개도 아까움</td>\n",
              "      <td>0</td>\n",
              "    </tr>\n",
              "  </tbody>\n",
              "</table>\n",
              "</div>"
            ],
            "text/plain": [
              "         id                               document  label\n",
              "0   9976970                      아 더빙 진짜 짜증나네요 목소리      0\n",
              "1   3819312             흠포스터보고 초딩영화줄오버연기조차 가볍지 않구나      1\n",
              "2  10265843                      너무재밓었다그래서보는것을추천한다      0\n",
              "3   9045019              교도소 이야기구먼 솔직히 재미는 없다평점 조정      0\n",
              "4   5403919  막 걸음마 뗀 세부터 초등학교 학년생인 살용영화ㅋㅋㅋ별반개도 아까움      0"
            ]
          },
          "metadata": {},
          "output_type": "display_data"
        },
        {
          "data": {
            "text/html": [
              "<div>\n",
              "<style scoped>\n",
              "    .dataframe tbody tr th:only-of-type {\n",
              "        vertical-align: middle;\n",
              "    }\n",
              "\n",
              "    .dataframe tbody tr th {\n",
              "        vertical-align: top;\n",
              "    }\n",
              "\n",
              "    .dataframe thead th {\n",
              "        text-align: right;\n",
              "    }\n",
              "</style>\n",
              "<table border=\"1\" class=\"dataframe\">\n",
              "  <thead>\n",
              "    <tr style=\"text-align: right;\">\n",
              "      <th></th>\n",
              "      <th>id</th>\n",
              "      <th>document</th>\n",
              "      <th>label</th>\n",
              "    </tr>\n",
              "  </thead>\n",
              "  <tbody>\n",
              "    <tr>\n",
              "      <th>0</th>\n",
              "      <td>6270596</td>\n",
              "      <td>굳 ㅋ</td>\n",
              "      <td>1</td>\n",
              "    </tr>\n",
              "    <tr>\n",
              "      <th>1</th>\n",
              "      <td>8544678</td>\n",
              "      <td>뭐야 이 평점들은 나쁘진 않지만 점 짜리는 더더욱 아니잖아</td>\n",
              "      <td>0</td>\n",
              "    </tr>\n",
              "    <tr>\n",
              "      <th>2</th>\n",
              "      <td>6825595</td>\n",
              "      <td>지루하지는 않은데 완전 막장임 돈주고 보기에는</td>\n",
              "      <td>0</td>\n",
              "    </tr>\n",
              "    <tr>\n",
              "      <th>3</th>\n",
              "      <td>6723715</td>\n",
              "      <td>만 아니었어도 별 다섯 개 줬을텐데 왜 로 나와서 제 심기를 불편하게 하죠</td>\n",
              "      <td>0</td>\n",
              "    </tr>\n",
              "    <tr>\n",
              "      <th>4</th>\n",
              "      <td>7898805</td>\n",
              "      <td>음악이 주가 된 최고의 음악영화</td>\n",
              "      <td>1</td>\n",
              "    </tr>\n",
              "  </tbody>\n",
              "</table>\n",
              "</div>"
            ],
            "text/plain": [
              "        id                                   document  label\n",
              "0  6270596                                        굳 ㅋ      1\n",
              "1  8544678           뭐야 이 평점들은 나쁘진 않지만 점 짜리는 더더욱 아니잖아      0\n",
              "2  6825595                  지루하지는 않은데 완전 막장임 돈주고 보기에는      0\n",
              "3  6723715  만 아니었어도 별 다섯 개 줬을텐데 왜 로 나와서 제 심기를 불편하게 하죠      0\n",
              "4  7898805                          음악이 주가 된 최고의 음악영화      1"
            ]
          },
          "metadata": {},
          "output_type": "display_data"
        }
      ],
      "source": [
        "# 테스트 데이터에도 적용하여 새로운 데이터로 만든다.\n",
        "\n",
        "filtered_train = [s for s in train_data['document'] if (len(s) <= max_len) & (len(s) >= min_len)]\n",
        "filtered_test = [s for s in test_data['document'] if (len(s) <= max_len) & (len(s) >= min_len)]\n",
        "\n",
        "train_list = list(set(filtered_train))\n",
        "test_list = list(set(filtered_test))\n",
        "\n",
        "train_df = pd.DataFrame(train_list)\n",
        "test_df = pd.DataFrame(test_list)\n",
        "\n",
        "new_train_df = pd.merge(train_data, train_df, how='inner', left_on='document', right_on=0)\n",
        "new_test_df = pd.merge(test_data, test_df, how='inner', left_on='document', right_on=0)\n",
        "\n",
        "train_data = new_train_df[['id', 'document', 'label']]\n",
        "test_data = new_test_df[['id', 'document', 'label']]\n",
        "\n",
        "display(train_data.head())\n",
        "display(test_data.head())"
      ]
    },
    {
      "cell_type": "code",
      "execution_count": null,
      "id": "612c4540",
      "metadata": {
        "id": "612c4540",
        "outputId": "6e93bcad-1ae9-4a05-d3bf-6da59aecae2a"
      },
      "outputs": [
        {
          "name": "stdout",
          "output_type": "stream",
          "text": [
            "학습 데이터: 122232\n",
            "테스트 데이터: 41071\n"
          ]
        }
      ],
      "source": [
        "print('학습 데이터:',len(train_data))\n",
        "print('테스트 데이터:',len(test_data))"
      ]
    },
    {
      "cell_type": "markdown",
      "id": "34a45e85",
      "metadata": {
        "id": "34a45e85"
      },
      "source": [
        "### sp_tokenize\n",
        "\n",
        "step 2,3 에서 사용한 함수들을 다시 확인해보자"
      ]
    },
    {
      "cell_type": "code",
      "execution_count": null,
      "id": "2b1e5893",
      "metadata": {
        "id": "2b1e5893"
      },
      "outputs": [],
      "source": [
        "# sp_tokenize로 토큰화\n",
        "\n",
        "X_train, X_train_word_index, X_train_index_word = sp_tokenize(s, train_data['document'])\n",
        "X_test, X_test_word_index, X_test_index_word = sp_tokenize(s, test_data['document'])\n",
        "\n",
        "# label 값을 y_train, y_test로 둔다.\n",
        "\n",
        "y_train = np.array(list(train_data['label']))\n",
        "y_test = np.array(list(test_data['label']))"
      ]
    },
    {
      "cell_type": "code",
      "execution_count": null,
      "id": "b3ac17c0",
      "metadata": {
        "id": "b3ac17c0",
        "outputId": "cb4aa56f-5645-4fa6-ef52-a5dd85c9c6eb"
      },
      "outputs": [
        {
          "name": "stdout",
          "output_type": "stream",
          "text": [
            "train\n",
            "[[ 141  106 2611  912 4856    4 4856  752   69  554  514 2648    0    0\n",
            "     0    0    0    0    0    0    0    0    0    0    0    0    0    0\n",
            "     0    0    0    0    0    0    0    0    0    0    0    0    0    0\n",
            "     0    0    0    0]\n",
            " [   4 7663  466 1756  146   14  439 3174 2766 1791  175  408  381   41\n",
            "  4189    4   11 7570   29 1311  230   69    0    0    0    0    0    0\n",
            "     0    0    0    0    0    0    0    0    0    0    0    0    0    0\n",
            "     0    0    0    0]\n",
            " [1328  437    0  266  254  591   95  146   10 1960    5 1011  703  249\n",
            "     0    0    0    0    0    0    0    0    0    0    0    0    0    0\n",
            "     0    0    0    0    0    0    0    0    0    0    0    0    0    0\n",
            "     0    0    0    0]]\n",
            "[0 1 0]\n",
            "\n",
            "test\n",
            "[[   4 7888    4    0    0    0    0    0    0    0    0    0    0    0\n",
            "     0    0    0    0    0    0    0    0    0    0    0    0    0    0\n",
            "     0    0    0    0    0    0    0    0    0    0    0    0    0    0\n",
            "     0    0]\n",
            " [   4 7826  168   25 1089  344  108  193 5571  166 4289  644    4 3363\n",
            "    10  106  377 7639 2506    0   94    0    0    0    0    0    0    0\n",
            "     0    0    0    0    0    0    0    0    0    0    0    0    0    0\n",
            "     0    0]\n",
            " [ 188  416  100   10  531  423 2092  933  156  510 1038   75   14 3165\n",
            "   180    0    0    0    0    0    0    0    0    0    0    0    0    0\n",
            "     0    0    0    0    0    0    0    0    0    0    0    0    0    0\n",
            "     0    0]]\n",
            "[1 0 0]\n"
          ]
        }
      ],
      "source": [
        "# 토큰화 결과 확인\n",
        "\n",
        "print('train')\n",
        "print(X_train[:3])\n",
        "print(y_train[:3])\n",
        "print()\n",
        "\n",
        "print('test')\n",
        "print(X_test[:3])\n",
        "print(y_test[:3])"
      ]
    },
    {
      "cell_type": "code",
      "execution_count": null,
      "id": "75ea4a6a",
      "metadata": {
        "id": "75ea4a6a"
      },
      "outputs": [],
      "source": [
        "# validation set 만들기\n",
        "\n",
        "from sklearn.model_selection import train_test_split\n",
        "\n",
        "# 일반적으로 훈련 데이터셋과 검증 데이터셋은 8:2 로 나눈다.\n",
        "train_input, val_input, train_target, val_target = train_test_split(X_train, y_train, \n",
        "                                                                    test_size=0.2, \n",
        "                                                                    random_state=34)"
      ]
    },
    {
      "cell_type": "markdown",
      "id": "802369ba",
      "metadata": {
        "id": "802369ba"
      },
      "source": [
        "### 모델 학습 및 평가"
      ]
    },
    {
      "cell_type": "code",
      "execution_count": null,
      "id": "c1b21e09",
      "metadata": {
        "id": "c1b21e09",
        "outputId": "6b6650a6-9fe4-4121-bd2c-0fd5df8aa626"
      },
      "outputs": [
        {
          "name": "stderr",
          "output_type": "stream",
          "text": [
            "sentencepiece_trainer.cc(177) LOG(INFO) Running command: --input=/aiffel/aiffel/sp_tokenizer/data/korean-english-park.train.ko.temp --model_prefix=korean_spm --vocab_size=8000\n",
            "sentencepiece_trainer.cc(77) LOG(INFO) Starts training with : \n",
            "trainer_spec {\n",
            "  input: /aiffel/aiffel/sp_tokenizer/data/korean-english-park.train.ko.temp\n",
            "  input_format: \n",
            "  model_prefix: korean_spm\n",
            "  model_type: UNIGRAM\n",
            "  vocab_size: 8000\n",
            "  self_test_sample_size: 0\n",
            "  character_coverage: 0.9995\n",
            "  input_sentence_size: 0\n",
            "  shuffle_input_sentence: 1\n",
            "  seed_sentencepiece_size: 1000000\n",
            "  shrinking_factor: 0.75\n",
            "  max_sentence_length: 4192\n",
            "  num_threads: 16\n",
            "  num_sub_iterations: 2\n",
            "  max_sentencepiece_length: 16\n",
            "  split_by_unicode_script: 1\n",
            "  split_by_number: 1\n",
            "  split_by_whitespace: 1\n",
            "  split_digits: 0\n",
            "  treat_whitespace_as_suffix: 0\n",
            "  allow_whitespace_only_pieces: 0\n",
            "  required_chars: \n",
            "  byte_fallback: 0\n",
            "  vocabulary_output_piece_score: 1\n",
            "  train_extremely_large_corpus: 0\n",
            "  hard_vocab_limit: 1\n",
            "  use_all_vocab: 0\n",
            "  unk_id: 0\n",
            "  bos_id: 1\n",
            "  eos_id: 2\n",
            "  pad_id: -1\n",
            "  unk_piece: <unk>\n",
            "  bos_piece: <s>\n",
            "  eos_piece: </s>\n",
            "  pad_piece: <pad>\n",
            "  unk_surface:  ⁇ \n",
            "}\n",
            "normalizer_spec {\n",
            "  name: nmt_nfkc\n",
            "  add_dummy_prefix: 1\n",
            "  remove_extra_whitespaces: 1\n",
            "  escape_whitespaces: 1\n",
            "  normalization_rule_tsv: \n",
            "}\n",
            "denormalizer_spec {}\n",
            "trainer_interface.cc(329) LOG(INFO) SentenceIterator is not specified. Using MultiFileSentenceIterator.\n",
            "trainer_interface.cc(178) LOG(INFO) Loading corpus: /aiffel/aiffel/sp_tokenizer/data/korean-english-park.train.ko.temp\n",
            "trainer_interface.cc(385) LOG(INFO) Loaded all 76908 sentences\n",
            "trainer_interface.cc(400) LOG(INFO) Adding meta_piece: <unk>\n",
            "trainer_interface.cc(400) LOG(INFO) Adding meta_piece: <s>\n",
            "trainer_interface.cc(400) LOG(INFO) Adding meta_piece: </s>\n",
            "trainer_interface.cc(405) LOG(INFO) Normalizing sentences...\n",
            "trainer_interface.cc(466) LOG(INFO) all chars count=4996369\n",
            "trainer_interface.cc(477) LOG(INFO) Done: 99.95% characters are covered.\n",
            "trainer_interface.cc(487) LOG(INFO) Alphabet size=1317\n",
            "trainer_interface.cc(488) LOG(INFO) Final character coverage=0.9995\n",
            "trainer_interface.cc(520) LOG(INFO) Done! preprocessed 76908 sentences.\n",
            "unigram_model_trainer.cc(139) LOG(INFO) Making suffix array...\n",
            "unigram_model_trainer.cc(143) LOG(INFO) Extracting frequent sub strings...\n",
            "unigram_model_trainer.cc(194) LOG(INFO) Initialized 174340 seed sentencepieces\n",
            "trainer_interface.cc(526) LOG(INFO) Tokenizing input sentences with whitespace: 76908\n",
            "trainer_interface.cc(537) LOG(INFO) Done! 237965\n",
            "unigram_model_trainer.cc(489) LOG(INFO) Using 237965 sentences for EM training\n",
            "unigram_model_trainer.cc(505) LOG(INFO) EM sub_iter=0 size=92555 obj=14.853 num_tokens=523272 num_tokens/piece=5.65363\n",
            "unigram_model_trainer.cc(505) LOG(INFO) EM sub_iter=1 size=82083 obj=13.516 num_tokens=525776 num_tokens/piece=6.40542\n",
            "unigram_model_trainer.cc(505) LOG(INFO) EM sub_iter=0 size=61555 obj=13.5533 num_tokens=546907 num_tokens/piece=8.88485\n",
            "unigram_model_trainer.cc(505) LOG(INFO) EM sub_iter=1 size=61506 obj=13.5101 num_tokens=547350 num_tokens/piece=8.89913\n",
            "unigram_model_trainer.cc(505) LOG(INFO) EM sub_iter=0 size=46126 obj=13.6926 num_tokens=575369 num_tokens/piece=12.4739\n",
            "unigram_model_trainer.cc(505) LOG(INFO) EM sub_iter=1 size=46126 obj=13.6493 num_tokens=575466 num_tokens/piece=12.476\n",
            "unigram_model_trainer.cc(505) LOG(INFO) EM sub_iter=0 size=34594 obj=13.8894 num_tokens=606014 num_tokens/piece=17.5179\n",
            "unigram_model_trainer.cc(505) LOG(INFO) EM sub_iter=1 size=34594 obj=13.8387 num_tokens=606012 num_tokens/piece=17.5178\n",
            "unigram_model_trainer.cc(505) LOG(INFO) EM sub_iter=0 size=25945 obj=14.1301 num_tokens=637532 num_tokens/piece=24.5724\n",
            "unigram_model_trainer.cc(505) LOG(INFO) EM sub_iter=1 size=25945 obj=14.0747 num_tokens=637568 num_tokens/piece=24.5738\n",
            "unigram_model_trainer.cc(505) LOG(INFO) EM sub_iter=0 size=19458 obj=14.4091 num_tokens=670960 num_tokens/piece=34.4825\n",
            "unigram_model_trainer.cc(505) LOG(INFO) EM sub_iter=1 size=19458 obj=14.3468 num_tokens=670999 num_tokens/piece=34.4845\n",
            "unigram_model_trainer.cc(505) LOG(INFO) EM sub_iter=0 size=14593 obj=14.7196 num_tokens=705636 num_tokens/piece=48.3544\n",
            "unigram_model_trainer.cc(505) LOG(INFO) EM sub_iter=1 size=14593 obj=14.648 num_tokens=705645 num_tokens/piece=48.355\n",
            "unigram_model_trainer.cc(505) LOG(INFO) EM sub_iter=0 size=10944 obj=15.0875 num_tokens=741620 num_tokens/piece=67.765\n",
            "unigram_model_trainer.cc(505) LOG(INFO) EM sub_iter=1 size=10944 obj=15.007 num_tokens=741624 num_tokens/piece=67.7654\n",
            "unigram_model_trainer.cc(505) LOG(INFO) EM sub_iter=0 size=8800 obj=15.3757 num_tokens=769363 num_tokens/piece=87.4276\n",
            "unigram_model_trainer.cc(505) LOG(INFO) EM sub_iter=1 size=8800 obj=15.307 num_tokens=769367 num_tokens/piece=87.4281\n",
            "trainer_interface.cc(615) LOG(INFO) Saving model: korean_spm.model\n",
            "trainer_interface.cc(626) LOG(INFO) Saving vocabs: korean_spm.vocab\n"
          ]
        },
        {
          "name": "stdout",
          "output_type": "stream",
          "text": [
            "-rw-r--r-- 1 root root 376816 Nov 29 11:33 korean_spm.model\r\n",
            "-rw-r--r-- 1 root root 146213 Nov 29 11:33 korean_spm.vocab\r\n"
          ]
        }
      ],
      "source": [
        "import sentencepiece as spm\n",
        "import os\n",
        "temp_file = os.getenv('HOME')+'/aiffel/sp_tokenizer/data/korean-english-park.train.ko.temp'\n",
        "\n",
        "vocab_size = 8000\n",
        "\n",
        "with open(temp_file, 'w') as f:\n",
        "    for row in filtered_corpus:   # 이전 스텝에서 정제했던 corpus를 활용합니다.\n",
        "        f.write(str(row) + '\\n')\n",
        "\n",
        "spm.SentencePieceTrainer.Train(\n",
        "    '--input={} --model_prefix=korean_spm --vocab_size={}'.format(temp_file, vocab_size)    \n",
        ")\n",
        "# 위 Train에서  --model_type = 'unigram'이 디폴트 적용되어 있습니다. --model_type = 'bpe' 로 옵션을 주어 변경할 수 있습니다.\n",
        "\n",
        "!ls -l korean_spm*"
      ]
    },
    {
      "cell_type": "code",
      "execution_count": null,
      "id": "1a6d1b1c",
      "metadata": {
        "id": "1a6d1b1c",
        "outputId": "8a06c41f-9ec1-41ee-ebb6-dc86af92360a"
      },
      "outputs": [
        {
          "data": {
            "text/plain": [
              "True"
            ]
          },
          "execution_count": 90,
          "metadata": {},
          "output_type": "execute_result"
        }
      ],
      "source": [
        "s = spm.SentencePieceProcessor()\n",
        "s.Load('korean_spm.model')"
      ]
    },
    {
      "cell_type": "code",
      "execution_count": null,
      "id": "d1f12794",
      "metadata": {
        "id": "d1f12794"
      },
      "outputs": [],
      "source": [
        "def sp_tokenize(s, corpus):\n",
        "\n",
        "    tensor = []\n",
        "\n",
        "    for sen in corpus:\n",
        "        tensor.append(s.EncodeAsIds(sen))\n",
        "\n",
        "    with open(\"./korean_spm.vocab\", 'r') as f:\n",
        "        vocab = f.readlines()\n",
        "\n",
        "    word_index = {}\n",
        "    index_word = {}\n",
        "\n",
        "    for idx, line in enumerate(vocab):\n",
        "        word = line.split(\"\\t\")[0]\n",
        "\n",
        "        word_index.update({idx:word})\n",
        "        index_word.update({word:idx})\n",
        "\n",
        "    tensor = tf.keras.preprocessing.sequence.pad_sequences(tensor, padding='post')\n",
        "\n",
        "    return tensor, word_index, index_word"
      ]
    },
    {
      "cell_type": "code",
      "execution_count": null,
      "id": "fc7badf9",
      "metadata": {
        "id": "fc7badf9",
        "outputId": "e9c763ab-9499-405d-b504-8b3b4459cf67"
      },
      "outputs": [
        {
          "name": "stdout",
          "output_type": "stream",
          "text": [
            "Model: \"sequential_1\"\n",
            "_________________________________________________________________\n",
            "Layer (type)                 Output Shape              Param #   \n",
            "=================================================================\n",
            "embedding_1 (Embedding)      (None, None, 20)          100000    \n",
            "_________________________________________________________________\n",
            "lstm_1 (LSTM)                (None, 8)                 928       \n",
            "_________________________________________________________________\n",
            "dense_2 (Dense)              (None, 8)                 72        \n",
            "_________________________________________________________________\n",
            "dense_3 (Dense)              (None, 1)                 9         \n",
            "=================================================================\n",
            "Total params: 101,009\n",
            "Trainable params: 101,009\n",
            "Non-trainable params: 0\n",
            "_________________________________________________________________\n"
          ]
        }
      ],
      "source": [
        "# 이전 노드에서 썼었던 LSTM 모델 사용(1)\n",
        "\n",
        "vocab_size = 5000    # 어휘 사전의 크기\n",
        "word_vector_dim = 20  # 단어 하나를 표현하는 임베딩 벡터의 차원수 (변경가능)\n",
        "\n",
        "from tensorflow import keras\n",
        "model = keras.Sequential()\n",
        "model.add(keras.layers.Embedding(vocab_size,word_vector_dim))\n",
        "model.add(keras.layers.LSTM(8))\n",
        "model.add(keras.layers.Dense(8, activation='relu'))\n",
        "model.add(keras.layers.Dense(1, activation='sigmoid'))\n",
        "model.summary()"
      ]
    },
    {
      "cell_type": "code",
      "execution_count": null,
      "id": "b35989b0",
      "metadata": {
        "id": "b35989b0",
        "outputId": "95625bdf-75a9-4863-f5a5-9c99f9dd0486"
      },
      "outputs": [
        {
          "name": "stdout",
          "output_type": "stream",
          "text": [
            "Epoch 1/20\n",
            "3056/3056 [==============================] - 17s 5ms/step - loss: 0.6620 - accuracy: 0.5764 - val_loss: 0.6281 - val_accuracy: 0.7025\n",
            "Epoch 2/20\n",
            "3056/3056 [==============================] - 16s 5ms/step - loss: 0.6064 - accuracy: 0.7000 - val_loss: 0.6133 - val_accuracy: 0.6845\n",
            "Epoch 3/20\n",
            "3056/3056 [==============================] - 16s 5ms/step - loss: 0.6147 - accuracy: 0.6689 - val_loss: 0.5978 - val_accuracy: 0.7101\n",
            "Epoch 4/20\n",
            "3056/3056 [==============================] - 16s 5ms/step - loss: 0.5848 - accuracy: 0.7064 - val_loss: 0.5599 - val_accuracy: 0.7329\n",
            "Epoch 5/20\n",
            "3056/3056 [==============================] - 16s 5ms/step - loss: 0.5399 - accuracy: 0.7399 - val_loss: 0.5283 - val_accuracy: 0.7493\n",
            "Epoch 6/20\n",
            "3056/3056 [==============================] - 16s 5ms/step - loss: 0.4919 - accuracy: 0.7678 - val_loss: 0.4954 - val_accuracy: 0.7642\n",
            "Epoch 7/20\n",
            "3056/3056 [==============================] - 15s 5ms/step - loss: 0.4636 - accuracy: 0.7842 - val_loss: 0.4927 - val_accuracy: 0.7709\n",
            "Epoch 8/20\n",
            "3056/3056 [==============================] - 16s 5ms/step - loss: 0.4426 - accuracy: 0.7949 - val_loss: 0.4645 - val_accuracy: 0.7775\n",
            "Epoch 9/20\n",
            "3056/3056 [==============================] - 16s 5ms/step - loss: 0.4223 - accuracy: 0.8045 - val_loss: 0.4549 - val_accuracy: 0.7866\n",
            "Epoch 10/20\n",
            "3056/3056 [==============================] - 16s 5ms/step - loss: 0.4052 - accuracy: 0.8128 - val_loss: 0.4499 - val_accuracy: 0.7895\n",
            "Epoch 11/20\n",
            "3056/3056 [==============================] - 17s 5ms/step - loss: 0.3908 - accuracy: 0.8209 - val_loss: 0.4527 - val_accuracy: 0.7927\n",
            "Epoch 12/20\n",
            "3056/3056 [==============================] - 17s 6ms/step - loss: 0.3795 - accuracy: 0.8272 - val_loss: 0.4512 - val_accuracy: 0.7925\n",
            "Epoch 00012: early stopping\n"
          ]
        },
        {
          "data": {
            "text/plain": [
              "<keras.callbacks.History at 0x7fc1a61dd850>"
            ]
          },
          "execution_count": 96,
          "metadata": {},
          "output_type": "execute_result"
        }
      ],
      "source": [
        "from keras.callbacks import EarlyStopping\n",
        "\n",
        "early_stop = EarlyStopping(monitor='val_loss', patience=2, verbose=1) \n",
        "\n",
        "model.compile(optimizer='adam', loss='binary_crossentropy', metrics=['accuracy'])\n",
        "model.fit(train_input, train_target, epochs=20, validation_data=(val_input, val_target), callbacks=[early_stop])"
      ]
    },
    {
      "cell_type": "markdown",
      "id": "aaeba639",
      "metadata": {
        "id": "aaeba639"
      },
      "source": [
        "* vocab_size = 5000, word_vector_dim = 20 일 때의 결과는 다음과 같다."
      ]
    },
    {
      "cell_type": "code",
      "execution_count": null,
      "id": "8645e714",
      "metadata": {
        "id": "8645e714",
        "outputId": "555eb87f-673a-4f45-8ef2-bf28a9d2289e"
      },
      "outputs": [
        {
          "name": "stdout",
          "output_type": "stream",
          "text": [
            "1284/1284 - 3s - loss: 0.4525 - accuracy: 0.7904\n",
            "[0.45252519845962524, 0.7904117107391357]\n"
          ]
        }
      ],
      "source": [
        "lstm_result = model.evaluate(X_test, y_test, verbose=2)\n",
        "print(lstm_result)"
      ]
    },
    {
      "cell_type": "code",
      "execution_count": null,
      "id": "ff2e0ee0",
      "metadata": {
        "id": "ff2e0ee0",
        "outputId": "3ab08a8a-f986-42a1-df07-8fc18ffb0de1"
      },
      "outputs": [
        {
          "name": "stdout",
          "output_type": "stream",
          "text": [
            "Model: \"sequential_5\"\n",
            "_________________________________________________________________\n",
            "Layer (type)                 Output Shape              Param #   \n",
            "=================================================================\n",
            "embedding_5 (Embedding)      (None, None, 20)          200000    \n",
            "_________________________________________________________________\n",
            "lstm_5 (LSTM)                (None, 8)                 928       \n",
            "_________________________________________________________________\n",
            "dense_10 (Dense)             (None, 8)                 72        \n",
            "_________________________________________________________________\n",
            "dense_11 (Dense)             (None, 1)                 9         \n",
            "=================================================================\n",
            "Total params: 201,009\n",
            "Trainable params: 201,009\n",
            "Non-trainable params: 0\n",
            "_________________________________________________________________\n"
          ]
        }
      ],
      "source": [
        "# 이전 노드에서 썼었던 LSTM 모델 사용(2)\n",
        "\n",
        "vocab_size = 10000    # 어휘 사전의 크기\n",
        "word_vector_dim = 20  # 단어 하나를 표현하는 임베딩 벡터의 차원수 (변경가능)\n",
        "\n",
        "from tensorflow import keras\n",
        "model = keras.Sequential()\n",
        "model.add(keras.layers.Embedding(vocab_size,word_vector_dim))\n",
        "model.add(keras.layers.LSTM(8))\n",
        "model.add(keras.layers.Dense(8, activation='relu'))\n",
        "model.add(keras.layers.Dense(1, activation='sigmoid'))\n",
        "model.summary()"
      ]
    },
    {
      "cell_type": "code",
      "execution_count": null,
      "id": "39d94ef9",
      "metadata": {
        "id": "39d94ef9",
        "outputId": "79910eb1-27b0-4180-dcb3-3eb36468f99c"
      },
      "outputs": [
        {
          "name": "stdout",
          "output_type": "stream",
          "text": [
            "Epoch 1/20\n",
            "3056/3056 [==============================] - 17s 5ms/step - loss: 0.5217 - accuracy: 0.7429 - val_loss: 0.4432 - val_accuracy: 0.8023\n",
            "Epoch 2/20\n",
            "3056/3056 [==============================] - 16s 5ms/step - loss: 0.4139 - accuracy: 0.8174 - val_loss: 0.4087 - val_accuracy: 0.8125\n",
            "Epoch 3/20\n",
            "3056/3056 [==============================] - 16s 5ms/step - loss: 0.3783 - accuracy: 0.8317 - val_loss: 0.4066 - val_accuracy: 0.8158\n",
            "Epoch 4/20\n",
            "3056/3056 [==============================] - 16s 5ms/step - loss: 0.3563 - accuracy: 0.8408 - val_loss: 0.4038 - val_accuracy: 0.8183\n",
            "Epoch 5/20\n",
            "3056/3056 [==============================] - 16s 5ms/step - loss: 0.3387 - accuracy: 0.8501 - val_loss: 0.4060 - val_accuracy: 0.8217\n",
            "Epoch 6/20\n",
            "3056/3056 [==============================] - 16s 5ms/step - loss: 0.3236 - accuracy: 0.8586 - val_loss: 0.4043 - val_accuracy: 0.8165\n",
            "Epoch 00006: early stopping\n"
          ]
        },
        {
          "data": {
            "text/plain": [
              "<keras.callbacks.History at 0x7fc1321ad070>"
            ]
          },
          "execution_count": 105,
          "metadata": {},
          "output_type": "execute_result"
        }
      ],
      "source": [
        "early_stop = EarlyStopping(monitor='val_loss', patience=2, verbose=1) \n",
        "\n",
        "model.compile(optimizer='adam', loss='binary_crossentropy', metrics=['accuracy'])\n",
        "model.fit(train_input, train_target, epochs=20, validation_data=(val_input, val_target), callbacks=[early_stop])"
      ]
    },
    {
      "cell_type": "markdown",
      "id": "a17ea3a4",
      "metadata": {
        "id": "a17ea3a4"
      },
      "source": [
        "* 위와 같이 vocab_size = 10000 으로 키웠을 때의 결과는 다음과 같다."
      ]
    },
    {
      "cell_type": "code",
      "execution_count": null,
      "id": "c4a763c2",
      "metadata": {
        "id": "c4a763c2",
        "outputId": "e52fb59e-64b7-4e43-b3b8-61f950435cab"
      },
      "outputs": [
        {
          "name": "stdout",
          "output_type": "stream",
          "text": [
            "1284/1284 - 3s - loss: 0.4014 - accuracy: 0.8185\n",
            "[0.401365727186203, 0.8184850811958313]\n"
          ]
        }
      ],
      "source": [
        "lstm_result = model.evaluate(X_test, y_test, verbose=2)\n",
        "print(lstm_result)"
      ]
    },
    {
      "cell_type": "markdown",
      "id": "7b391a2a",
      "metadata": {
        "id": "7b391a2a"
      },
      "source": [
        "### 형태소 기반 토큰화와 비교"
      ]
    },
    {
      "cell_type": "code",
      "execution_count": null,
      "id": "0c0839f7",
      "metadata": {
        "id": "0c0839f7"
      },
      "outputs": [],
      "source": [
        "import numpy as np\n",
        "from collections import Counter\n",
        "from konlpy.tag import Mecab\n",
        "from MeCab import Tagger\n",
        "\n",
        "tokenizer = Mecab()\n",
        "stopwords = ['의','가','이','은','들','는','좀','잘','걍','과','도','를','으로','자','에','와','한','하다']\n",
        "\n",
        "def load_data(train_data, test_data, num_words=10000):\n",
        "    train_data.drop_duplicates(subset=['document'], inplace=True)\n",
        "    train_data = train_data.dropna(how = 'any') \n",
        "    test_data.drop_duplicates(subset=['document'], inplace=True)\n",
        "    test_data = test_data.dropna(how = 'any') \n",
        "    \n",
        "    X_train = []\n",
        "    for sentence in train_data['document']:\n",
        "        temp_X = tokenizer.morphs(sentence) # 토큰화\n",
        "        temp_X = [word for word in temp_X if not word in stopwords] # 불용어 제거\n",
        "        X_train.append(temp_X)\n",
        "\n",
        "    X_test = []\n",
        "    for sentence in test_data['document']:\n",
        "        temp_X = tokenizer.morphs(sentence) # 토큰화\n",
        "        temp_X = [word for word in temp_X if not word in stopwords] # 불용어 제거\n",
        "        X_test.append(temp_X)\n",
        "    \n",
        "    words = np.concatenate(X_train).tolist()\n",
        "    counter = Counter(words)\n",
        "    counter = counter.most_common(10000-4)\n",
        "    vocab = ['', '', '', ''] + [key for key, _ in counter]\n",
        "    word_to_index = {word:index for index, word in enumerate(vocab)}\n",
        "        \n",
        "    def wordlist_to_indexlist(wordlist):\n",
        "        return [word_to_index[word] if word in word_to_index else word_to_index[''] for word in wordlist]\n",
        "        \n",
        "    X_train = list(map(wordlist_to_indexlist, X_train))\n",
        "    X_test = list(map(wordlist_to_indexlist, X_test))\n",
        "        \n",
        "    return X_train, np.array(list(train_data['label'])), X_test, np.array(list(test_data['label'])), word_to_index\n",
        "    \n",
        "X_train, y_train, X_test, y_test, word_to_index = load_data(train_data, test_data)"
      ]
    },
    {
      "cell_type": "code",
      "execution_count": null,
      "id": "d4be730e",
      "metadata": {
        "id": "d4be730e"
      },
      "outputs": [],
      "source": [
        "index_to_word = {index:word for word, index in word_to_index.items()}"
      ]
    },
    {
      "cell_type": "code",
      "execution_count": null,
      "id": "7ef26d04",
      "metadata": {
        "id": "7ef26d04",
        "outputId": "479e10e5-795c-4f34-e972-c95672782cd1"
      },
      "outputs": [
        {
          "name": "stdout",
          "output_type": "stream",
          "text": [
            "<UNUSED>\n"
          ]
        }
      ],
      "source": [
        "# 비어있는 것들에 할당\n",
        "\n",
        "word_to_index[\"<PAD>\"] = 0\n",
        "word_to_index[\"<BOS>\"] = 1\n",
        "word_to_index[\"<UNK>\"] = 2  # unknown\n",
        "word_to_index[\"<UNUSED>\"] = 3\n",
        "\n",
        "index_to_word = {index:word for word, index in word_to_index.items()}\n",
        "\n",
        "print(index_to_word[3])"
      ]
    },
    {
      "cell_type": "code",
      "execution_count": null,
      "id": "44142aff",
      "metadata": {
        "id": "44142aff",
        "outputId": "21723763-99f2-4914-ec5d-7fb37547f6d2"
      },
      "outputs": [
        {
          "name": "stdout",
          "output_type": "stream",
          "text": [
            "(120122, 50)\n"
          ]
        }
      ],
      "source": [
        "X_train = tf.keras.preprocessing.sequence.pad_sequences(X_train,\n",
        "                                                        value=word_to_index[\"<PAD>\"],\n",
        "                                                        padding='pre', # 혹은 'post'\n",
        "                                                        maxlen=50)\n",
        "\n",
        "X_test = tf.keras.preprocessing.sequence.pad_sequences(X_test,\n",
        "                                                       value=word_to_index[\"<PAD>\"],\n",
        "                                                       padding='pre', # 혹은 'post'\n",
        "                                                       maxlen=50)\n",
        "\n",
        "print(X_train.shape)"
      ]
    },
    {
      "cell_type": "code",
      "execution_count": null,
      "id": "1addf703",
      "metadata": {
        "id": "1addf703"
      },
      "outputs": [],
      "source": [
        "# validation set 만들기\n",
        "\n",
        "from sklearn.model_selection import train_test_split\n",
        "\n",
        "# 일반적으로 훈련 데이터셋과 검증 데이터셋은 8:2 로 나눈다.\n",
        "train_input, val_input, train_target, val_target = train_test_split(X_train, y_train, \n",
        "                                                                    test_size=0.2, \n",
        "                                                                    random_state=34)"
      ]
    },
    {
      "cell_type": "code",
      "execution_count": null,
      "id": "8228b950",
      "metadata": {
        "id": "8228b950",
        "outputId": "c48d89c1-2ba1-4fc8-95e2-63b78581620d"
      },
      "outputs": [
        {
          "name": "stdout",
          "output_type": "stream",
          "text": [
            "Model: \"sequential_8\"\n",
            "_________________________________________________________________\n",
            "Layer (type)                 Output Shape              Param #   \n",
            "=================================================================\n",
            "embedding_8 (Embedding)      (None, None, 20)          200000    \n",
            "_________________________________________________________________\n",
            "lstm_8 (LSTM)                (None, 8)                 928       \n",
            "_________________________________________________________________\n",
            "dense_16 (Dense)             (None, 8)                 72        \n",
            "_________________________________________________________________\n",
            "dense_17 (Dense)             (None, 1)                 9         \n",
            "=================================================================\n",
            "Total params: 201,009\n",
            "Trainable params: 201,009\n",
            "Non-trainable params: 0\n",
            "_________________________________________________________________\n"
          ]
        }
      ],
      "source": [
        "# 이전 노드에서 썼었던 LSTM 모델 사용(3)\n",
        "\n",
        "vocab_size = 10000    # 어휘 사전의 크기\n",
        "word_vector_dim = 20  # 단어 하나를 표현하는 임베딩 벡터의 차원수 (변경가능)\n",
        "\n",
        "from tensorflow import keras\n",
        "model = keras.Sequential()\n",
        "model.add(keras.layers.Embedding(vocab_size,word_vector_dim))\n",
        "model.add(keras.layers.LSTM(8))\n",
        "model.add(keras.layers.Dense(8, activation='relu'))\n",
        "model.add(keras.layers.Dense(1, activation='sigmoid'))\n",
        "model.summary()"
      ]
    },
    {
      "cell_type": "code",
      "execution_count": null,
      "id": "4a72e7d9",
      "metadata": {
        "id": "4a72e7d9",
        "outputId": "3f5507c9-4a64-4f50-f981-79250635b476"
      },
      "outputs": [
        {
          "name": "stdout",
          "output_type": "stream",
          "text": [
            "Epoch 1/20\n",
            "3004/3004 [==============================] - 17s 5ms/step - loss: 0.4039 - accuracy: 0.8157 - val_loss: 0.3649 - val_accuracy: 0.8362\n",
            "Epoch 2/20\n",
            "3004/3004 [==============================] - 16s 5ms/step - loss: 0.3268 - accuracy: 0.8564 - val_loss: 0.3538 - val_accuracy: 0.8432\n",
            "Epoch 3/20\n",
            "3004/3004 [==============================] - 16s 5ms/step - loss: 0.2898 - accuracy: 0.8744 - val_loss: 0.3548 - val_accuracy: 0.8450\n",
            "Epoch 4/20\n",
            "3004/3004 [==============================] - 16s 5ms/step - loss: 0.2599 - accuracy: 0.8893 - val_loss: 0.3706 - val_accuracy: 0.8440\n",
            "Epoch 00004: early stopping\n"
          ]
        },
        {
          "data": {
            "text/plain": [
              "<keras.callbacks.History at 0x7fc0598bbd60>"
            ]
          },
          "execution_count": 121,
          "metadata": {},
          "output_type": "execute_result"
        }
      ],
      "source": [
        "early_stop = EarlyStopping(monitor='val_loss', patience=2, verbose=1) \n",
        "\n",
        "model.compile(optimizer='adam', loss='binary_crossentropy', metrics=['accuracy'])\n",
        "model.fit(train_input, train_target, epochs=20, validation_data=(val_input, val_target), callbacks=[early_stop])"
      ]
    },
    {
      "cell_type": "markdown",
      "id": "b2b48cee",
      "metadata": {
        "id": "b2b48cee"
      },
      "source": [
        "* 위와 같이 형태소 기반 토큰화인 MeCab 을 사용했을 때의 결과는 다음과 같다."
      ]
    },
    {
      "cell_type": "code",
      "execution_count": null,
      "id": "c40e5493",
      "metadata": {
        "id": "c40e5493",
        "outputId": "b3bf4517-f0bc-4923-a828-042919f4cc55"
      },
      "outputs": [
        {
          "name": "stdout",
          "output_type": "stream",
          "text": [
            "1266/1266 - 3s - loss: 0.3671 - accuracy: 0.8431\n",
            "[0.3670845031738281, 0.8430593013763428]\n"
          ]
        }
      ],
      "source": [
        "lstm_result = model.evaluate(X_test, y_test, verbose=2)\n",
        "print(lstm_result)"
      ]
    },
    {
      "cell_type": "markdown",
      "id": "ae4b2fba",
      "metadata": {
        "id": "ae4b2fba"
      },
      "source": [
        "### 결과\n",
        "\n",
        "같은 조건에서 SentencePiece 토크나이저를 사용했을 때는 정확도가 81.8% 를 기록했다.\n",
        "반면 형태소 기반 토크나이저 MeCab을 사용했을 때는 정확도가 84.3% 를 기록했다."
      ]
    },
    {
      "cell_type": "markdown",
      "id": "900ad620",
      "metadata": {
        "id": "900ad620"
      },
      "source": [
        "# 회고\n",
        "\n",
        "이번 노드에서는 센텐스피스를 활용해 토큰화하여 모델에 적용해보았다. 비록 이번 프로젝트에서는 형태소 기반 토크나이저인 MeCab 이 조금 더 높은 정확도를 보였으나 센텐스피스는 비교적 간단하게 언어에 상관없이 적용할 수 있기 때문에 이 정도 차이는 충분히 무시할만하다고 보인다. 특히 영어 같은 언어와는 달리 한국어는 교착어로, 토큰화가 매우 힘든 편에 속한다. 그럼에도 불구하고 한국어 전용 토크나이저와 비슷한 수준의 성능을 보인다는 점에서 충분히 가능성을 볼 수 있었다."
      ]
    },
    {
      "cell_type": "markdown",
      "id": "36fa2d95",
      "metadata": {
        "id": "36fa2d95"
      },
      "source": [
        "# Reference\n",
        "\n",
        "https://wikidocs.net/86657 SentencePiece 에 대해"
      ]
    }
  ],
  "metadata": {
    "kernelspec": {
      "display_name": "Python 3 (ipykernel)",
      "language": "python",
      "name": "python3"
    },
    "language_info": {
      "codemirror_mode": {
        "name": "ipython",
        "version": 3
      },
      "file_extension": ".py",
      "mimetype": "text/x-python",
      "name": "python",
      "nbconvert_exporter": "python",
      "pygments_lexer": "ipython3",
      "version": "3.9.7"
    },
    "colab": {
      "provenance": [],
      "toc_visible": true
    }
  },
  "nbformat": 4,
  "nbformat_minor": 5
}